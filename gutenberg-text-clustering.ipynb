{
 "cells": [
  {
   "cell_type": "code",
   "execution_count": null,
   "id": "ranging-reservoir",
   "metadata": {
    "papermill": {
     "duration": 0.04227,
     "end_time": "2021-06-20T11:51:40.294428",
     "exception": false,
     "start_time": "2021-06-20T11:51:40.252158",
     "status": "completed"
    },
    "tags": []
   },
   "outputs": [],
   "source": []
  },
  {
   "cell_type": "markdown",
   "id": "specific-bidder",
   "metadata": {
    "papermill": {
     "duration": 0.041061,
     "end_time": "2021-06-20T11:51:40.375663",
     "exception": false,
     "start_time": "2021-06-20T11:51:40.334602",
     "status": "completed"
    },
    "tags": []
   },
   "source": [
    "# Introduction"
   ]
  },
  {
   "cell_type": "markdown",
   "id": "unknown-heating",
   "metadata": {
    "papermill": {
     "duration": 0.039873,
     "end_time": "2021-06-20T11:51:40.455919",
     "exception": false,
     "start_time": "2021-06-20T11:51:40.416046",
     "status": "completed"
    },
    "tags": []
   },
   "source": [
    "Text clustering is a method of processing the unlabeled texts into groups or clusters therefore this NLP analysis is called text clustering.It is one of the unsupervised learning techniques that depends on grouping the texts according to their similarity. Imagine you are a librarian and you want to group the books into grouos and subgroups according to their similarity on their authors and their scopes as well [1]. In this project, Text Clustering pipeline consists of five main components:\n",
    "\n",
    "1. **Data Cleaning:** this step includes uploding gutenberg's five books with different genres and different authors. The selected geres are: Fiction, Mystery, Science, Detective, and Novel.\n",
    "\n",
    "2. **Data Partitioning:** the raw text books are partioned into 200 partitions randomly. each partition consists of 150 words. \n",
    "\n",
    "3. **Feature Engineering:** the raw dataset is transformed into vectors that can be used in a machine learning model. this step includes creating new features.\n",
    "\n",
    "4. **Clustering:** training different clustering algorithms for further selecting the best algorithm.\n",
    "\n",
    "5. **Evaluation:** if this clustering define separations of the data similar to some ground truth set of classes or satisfying some assumption such that members belong to the same class are more similar than members of different classes according to some similarity metric [2].\n",
    "\n",
    "We used different feature engineering techniques with different clustering algorithms to select the champoin clusterer in the end. in addition, we did some clustering performance evaluations to measure different parametes as:  Silhouette Coefficient to determine the better defined clusters, cohen's kappa to measure the inter-agreement, v-measure to measure the homogenity and completeness of the clustering, and normalized mutual information score to measure the coherence between the clusters. Finally we did some error analysis like Principal component analysis (PCA) visualization to the best clusterer, and top 10 frequent words to the mislabeled partition."
   ]
  },
  {
   "cell_type": "markdown",
   "id": "attempted-reproduction",
   "metadata": {
    "papermill": {
     "duration": 0.039886,
     "end_time": "2021-06-20T11:51:40.535656",
     "exception": false,
     "start_time": "2021-06-20T11:51:40.495770",
     "status": "completed"
    },
    "tags": []
   },
   "source": [
    "# Libraries\n",
    "\n",
    "For dataset preparation, feature engineering, model training & Evaluation."
   ]
  },
  {
   "cell_type": "code",
   "execution_count": 1,
   "id": "british-domain",
   "metadata": {
    "execution": {
     "iopub.execute_input": "2021-06-20T11:51:40.622108Z",
     "iopub.status.busy": "2021-06-20T11:51:40.620825Z",
     "iopub.status.idle": "2021-06-20T11:51:48.210548Z",
     "shell.execute_reply": "2021-06-20T11:51:48.209780Z",
     "shell.execute_reply.started": "2021-06-20T11:48:55.018677Z"
    },
    "papermill": {
     "duration": 7.633889,
     "end_time": "2021-06-20T11:51:48.210716",
     "exception": false,
     "start_time": "2021-06-20T11:51:40.576827",
     "status": "completed"
    },
    "tags": []
   },
   "outputs": [],
   "source": [
    "import nltk\n",
    "import re\n",
    "import pandas as pd\n",
    "import numpy as np\n",
    "import random\n",
    "## for plotting\n",
    "import matplotlib.pyplot as plt\n",
    "import seaborn as sns\n",
    "import wordcloud\n",
    "import gensim\n",
    "\n",
    "from sklearn.feature_extraction.text import CountVectorizer , TfidfTransformer,TfidfVectorizer\n",
    "# import hierarchical clustering libraries\n",
    "from sklearn.cluster import AgglomerativeClustering\n",
    "from sklearn import metrics\n",
    "from sklearn.model_selection import GridSearchCV , cross_val_score\n",
    "from sklearn.naive_bayes import MultinomialNB\n",
    "from sklearn.svm import SVC\n",
    "from sklearn.decomposition import PCA\n",
    "from sklearn.tree import DecisionTreeClassifier\n",
    "from sklearn.neighbors import KNeighborsClassifier\n",
    "from sklearn.pipeline import Pipeline\n",
    "from sklearn import preprocessing , decomposition ,ensemble\n",
    "from sklearn.cluster import KMeans\n",
    "from sklearn.metrics import silhouette_score\n",
    "from sklearn.decomposition import TruncatedSVD\n",
    "from sklearn.mixture import GaussianMixture\n",
    "\n",
    "from sklearn.metrics import classification_report, plot_confusion_matrix, accuracy_score\n",
    "from keras.preprocessing import text, sequence\n",
    "from mlxtend.evaluate import bias_variance_decomp \n",
    "\n",
    "import ipywidgets as widgets\n",
    "from IPython import display\n"
   ]
  },
  {
   "cell_type": "markdown",
   "id": "applied-shade",
   "metadata": {
    "papermill": {
     "duration": 0.039745,
     "end_time": "2021-06-20T11:51:48.290348",
     "exception": false,
     "start_time": "2021-06-20T11:51:48.250603",
     "status": "completed"
    },
    "tags": []
   },
   "source": [
    "# Data Cleaning"
   ]
  },
  {
   "cell_type": "markdown",
   "id": "final-genetics",
   "metadata": {
    "papermill": {
     "duration": 0.039414,
     "end_time": "2021-06-20T11:51:48.370366",
     "exception": false,
     "start_time": "2021-06-20T11:51:48.330952",
     "status": "completed"
    },
    "tags": []
   },
   "source": [
    "Data cleaning is a pre-processing step for text clustering. it's a problem dependent step because there are various techniques for data cleaning but we select the most appropriate one for our data as well as our goal. First, we normalized the data by converting the text to lowercase. Second, we removed some noise like panctuations, links, and numbers. Third, we removed the stop words. Then, we did lemmatisation in which a Part of speech(POS) of each word is determined and then different rules are applied for different POS[3]. Finally, we removed some words that are repeated alot in the five books according to their collocation analysis. these words mislabel the clusters. Examples of these words: 'gutenberg', 'book', 'project', 'electronic'. "
   ]
  },
  {
   "cell_type": "markdown",
   "id": "union-adjustment",
   "metadata": {
    "papermill": {
     "duration": 0.039338,
     "end_time": "2021-06-20T11:51:48.449723",
     "exception": false,
     "start_time": "2021-06-20T11:51:48.410385",
     "status": "completed"
    },
    "tags": []
   },
   "source": [
    "> Preprocessing Function."
   ]
  },
  {
   "cell_type": "code",
   "execution_count": 2,
   "id": "becoming-economics",
   "metadata": {
    "execution": {
     "iopub.execute_input": "2021-06-20T11:51:48.540201Z",
     "iopub.status.busy": "2021-06-20T11:51:48.539179Z",
     "iopub.status.idle": "2021-06-20T11:51:48.704754Z",
     "shell.execute_reply": "2021-06-20T11:51:48.703708Z",
     "shell.execute_reply.started": "2021-06-20T11:49:03.027004Z"
    },
    "papermill": {
     "duration": 0.215877,
     "end_time": "2021-06-20T11:51:48.705008",
     "exception": false,
     "start_time": "2021-06-20T11:51:48.489131",
     "status": "completed"
    },
    "tags": []
   },
   "outputs": [
    {
     "name": "stdout",
     "output_type": "stream",
     "text": [
      "[nltk_data] Downloading package stopwords to /usr/share/nltk_data...\n",
      "[nltk_data]   Package stopwords is already up-to-date!\n"
     ]
    }
   ],
   "source": [
    "nltk.download('stopwords')\n",
    "lst_stopwords = nltk.corpus.stopwords.words(\"english\")\n",
    "def utils_preprocess_text(text, flg_stemm=False, flg_lemm=True,printt = False):#, lst_stopwords=None):\n",
    "    ## clean (convert to lowercase and remove punctuations and characters and then strip)\n",
    "    text = re.sub(r'[^\\w\\s]', ' ', str(text).lower().strip())\n",
    "    text = re.sub(r\"(@\\[A-Za-z0-9]+)|([^0-9A-Za-z \\t])|(\\w+:\\/\\/\\S+)|^rt|http.+?\", \" \", text)\n",
    "    text = re.sub(\"\\d+\", \" \", text)\n",
    "            \n",
    "    ## Tokenize (convert from string to list)\n",
    "    lst_text = text.split()\n",
    "    if printt:\n",
    "        print(f'number of words before removing stop words = {len(lst_text)}')\n",
    "    ## remove Stopwords\n",
    "    if lst_stopwords is not None:\n",
    "        lst_text = [word for word in lst_text if word not in lst_stopwords]\n",
    "    if printt:   \n",
    "        print(f'number of words after removing stop words = {len(lst_text)}')\n",
    "    \n",
    "                \n",
    "    ## Stemming (remove -ing, -ly, ...)\n",
    "    if flg_stemm == True:\n",
    "        ps = nltk.stem.porter.PorterStemmer()\n",
    "        lst_text = [ps.stem(word) for word in lst_text]\n",
    "                \n",
    "    ## Lemmatisation (convert the word into root word)\n",
    "    if flg_lemm == True:\n",
    "        lem = nltk.stem.wordnet.WordNetLemmatizer()\n",
    "        lst_text = [lem.lemmatize(word) for word in lst_text]\n",
    "            \n",
    "    ## back to string from list\n",
    "    text = \" \".join(lst_text)\n",
    "    return text"
   ]
  },
  {
   "cell_type": "markdown",
   "id": "structured-cruise",
   "metadata": {
    "papermill": {
     "duration": 0.040127,
     "end_time": "2021-06-20T11:51:48.786311",
     "exception": false,
     "start_time": "2021-06-20T11:51:48.746184",
     "status": "completed"
    },
    "tags": []
   },
   "source": [
    "# Data Partitioning"
   ]
  },
  {
   "cell_type": "code",
   "execution_count": 3,
   "id": "massive-tunnel",
   "metadata": {
    "execution": {
     "iopub.execute_input": "2021-06-20T11:51:48.877274Z",
     "iopub.status.busy": "2021-06-20T11:51:48.876580Z",
     "iopub.status.idle": "2021-06-20T11:51:54.165363Z",
     "shell.execute_reply": "2021-06-20T11:51:54.165841Z",
     "shell.execute_reply.started": "2021-06-20T11:49:03.314002Z"
    },
    "papermill": {
     "duration": 5.339496,
     "end_time": "2021-06-20T11:51:54.166020",
     "exception": false,
     "start_time": "2021-06-20T11:51:48.826524",
     "status": "completed"
    },
    "tags": []
   },
   "outputs": [
    {
     "name": "stdout",
     "output_type": "stream",
     "text": [
      "number of words before removing stop words = 77013\n",
      "number of words after removing stop words = 36997\n",
      "number of words before removing stop words = 53776\n",
      "number of words after removing stop words = 24840\n",
      "number of words before removing stop words = 20072\n",
      "number of words after removing stop words = 9410\n",
      "number of words before removing stop words = 79020\n",
      "number of words after removing stop words = 37984\n",
      "number of words before removing stop words = 74426\n",
      "number of words after removing stop words = 32380\n"
     ]
    },
    {
     "data": {
      "text/html": [
       "<div>\n",
       "<style scoped>\n",
       "    .dataframe tbody tr th:only-of-type {\n",
       "        vertical-align: middle;\n",
       "    }\n",
       "\n",
       "    .dataframe tbody tr th {\n",
       "        vertical-align: top;\n",
       "    }\n",
       "\n",
       "    .dataframe thead th {\n",
       "        text-align: right;\n",
       "    }\n",
       "</style>\n",
       "<table border=\"1\" class=\"dataframe\">\n",
       "  <thead>\n",
       "    <tr style=\"text-align: right;\">\n",
       "      <th></th>\n",
       "      <th>genre</th>\n",
       "      <th>cleaned_text</th>\n",
       "    </tr>\n",
       "  </thead>\n",
       "  <tbody>\n",
       "    <tr>\n",
       "      <th>0</th>\n",
       "      <td>0</td>\n",
       "      <td>get touch physical body weak get touch asked p...</td>\n",
       "    </tr>\n",
       "    <tr>\n",
       "      <th>1</th>\n",
       "      <td>0</td>\n",
       "      <td>rainbow slid deft hand theodore wondered got e...</td>\n",
       "    </tr>\n",
       "    <tr>\n",
       "      <th>2</th>\n",
       "      <td>0</td>\n",
       "      <td>big man wrestled desperately theodore ghastly ...</td>\n",
       "    </tr>\n",
       "    <tr>\n",
       "      <th>3</th>\n",
       "      <td>0</td>\n",
       "      <td>demanded second glass brought colour back wan ...</td>\n",
       "    </tr>\n",
       "    <tr>\n",
       "      <th>4</th>\n",
       "      <td>0</td>\n",
       "      <td>moment seemed force appeared falter weaken lig...</td>\n",
       "    </tr>\n",
       "    <tr>\n",
       "      <th>...</th>\n",
       "      <td>...</td>\n",
       "      <td>...</td>\n",
       "    </tr>\n",
       "    <tr>\n",
       "      <th>995</th>\n",
       "      <td>4</td>\n",
       "      <td>walk every graceless jerk hurt seemed endless ...</td>\n",
       "    </tr>\n",
       "    <tr>\n",
       "      <th>996</th>\n",
       "      <td>4</td>\n",
       "      <td>maiden aunt sure deeply suffered sure hope how...</td>\n",
       "    </tr>\n",
       "    <tr>\n",
       "      <th>997</th>\n",
       "      <td>4</td>\n",
       "      <td>management way lover whatever found separated ...</td>\n",
       "    </tr>\n",
       "    <tr>\n",
       "      <th>998</th>\n",
       "      <td>4</td>\n",
       "      <td>must like absence luggage made young woman fee...</td>\n",
       "    </tr>\n",
       "    <tr>\n",
       "      <th>999</th>\n",
       "      <td>4</td>\n",
       "      <td>little fleda vetch predicament saw owen moment...</td>\n",
       "    </tr>\n",
       "  </tbody>\n",
       "</table>\n",
       "<p>1000 rows × 2 columns</p>\n",
       "</div>"
      ],
      "text/plain": [
       "     genre                                       cleaned_text\n",
       "0        0  get touch physical body weak get touch asked p...\n",
       "1        0  rainbow slid deft hand theodore wondered got e...\n",
       "2        0  big man wrestled desperately theodore ghastly ...\n",
       "3        0  demanded second glass brought colour back wan ...\n",
       "4        0  moment seemed force appeared falter weaken lig...\n",
       "..     ...                                                ...\n",
       "995      4  walk every graceless jerk hurt seemed endless ...\n",
       "996      4  maiden aunt sure deeply suffered sure hope how...\n",
       "997      4  management way lover whatever found separated ...\n",
       "998      4  must like absence luggage made young woman fee...\n",
       "999      4  little fleda vetch predicament saw owen moment...\n",
       "\n",
       "[1000 rows x 2 columns]"
      ]
     },
     "execution_count": 3,
     "metadata": {},
     "output_type": "execute_result"
    }
   ],
   "source": [
    "def read_books(path): #function to read the book\n",
    "    book = open(path).read()\n",
    "    return book\n",
    "\n",
    "b1= read_books('../input/books-data/data/The_Mikado_Jewel_by_Fergus_Hume.txt')\n",
    "b2= read_books('../input/books-data/data/A_Strange_Disappearance_by_Anna_Katharine_Green.txt')\n",
    "b3= read_books('../input/books-data/data/Nor_Iron_Bars_a_Cage...._by_Randall_Garrett.txt')\n",
    "b4= read_books('../input/books-data/data/The_Secret_of_Chimneys_by_Agatha_Christie.txt')\n",
    "b5= read_books('../input/books-data/data/The_Spoils_of_Poynton_by_Henry_James.txt')\n",
    "label = [\"Fiction\", \"Mystery\", \"Science\", \"Detective\",\"Novel\"]\n",
    "books = [b1, b2, b3, b4, b5]\n",
    "def partitation_book(): #function for partitioning\n",
    "    final_list = []# hold the final result of all used books\n",
    "    words = \"\"\n",
    "    for book in range(0, 5):\n",
    "        cleaned_text = utils_preprocess_text(books[book],flg_stemm=False, flg_lemm=True,printt = True)\n",
    "        book_tokenized_words = nltk.word_tokenize(cleaned_text)#get the words' tokens for every book\n",
    "        for partition in range(0, 200):#start 200 partition from every single book\n",
    "            random_word_index= random.choice(range(len(book_tokenized_words))) #Create (random?!) samples of 200 partitions of the book.\n",
    "            if random_word_index <= (len(book_tokenized_words)):\n",
    "                part = book_tokenized_words[random_word_index : random_word_index+150]\n",
    "            else: \n",
    "                random_word_index = random_word_index - 150\n",
    "                part = book_tokenized_words[random_word_index : random_word_index+150]\n",
    "            words = \" \".join(part)  \n",
    "            final_list.append((label.index(label[book]), words))\n",
    "            words = ' '\n",
    "    list_df = pd.DataFrame(final_list, columns=[\"genre\", \"cleaned_text\"]) #convert the final list to dataframe for further analysis.\n",
    "    return list_df\n",
    "        \n",
    "data_df = partitation_book()\n",
    "data_df"
   ]
  },
  {
   "cell_type": "code",
   "execution_count": 4,
   "id": "sustained-strike",
   "metadata": {
    "execution": {
     "iopub.execute_input": "2021-06-20T11:51:54.298371Z",
     "iopub.status.busy": "2021-06-20T11:51:54.292978Z",
     "iopub.status.idle": "2021-06-20T11:51:55.726052Z",
     "shell.execute_reply": "2021-06-20T11:51:55.725513Z",
     "shell.execute_reply.started": "2021-06-20T11:49:06.779860Z"
    },
    "papermill": {
     "duration": 1.518786,
     "end_time": "2021-06-20T11:51:55.726195",
     "exception": false,
     "start_time": "2021-06-20T11:51:54.207409",
     "status": "completed"
    },
    "tags": []
   },
   "outputs": [
    {
     "data": {
      "text/html": [
       "<div>\n",
       "<style scoped>\n",
       "    .dataframe tbody tr th:only-of-type {\n",
       "        vertical-align: middle;\n",
       "    }\n",
       "\n",
       "    .dataframe tbody tr th {\n",
       "        vertical-align: top;\n",
       "    }\n",
       "\n",
       "    .dataframe thead th {\n",
       "        text-align: right;\n",
       "    }\n",
       "</style>\n",
       "<table border=\"1\" class=\"dataframe\">\n",
       "  <thead>\n",
       "    <tr style=\"text-align: right;\">\n",
       "      <th></th>\n",
       "      <th>genre</th>\n",
       "      <th>cleaned_text</th>\n",
       "      <th>tokenized</th>\n",
       "      <th>words_length</th>\n",
       "    </tr>\n",
       "  </thead>\n",
       "  <tbody>\n",
       "    <tr>\n",
       "      <th>0</th>\n",
       "      <td>0</td>\n",
       "      <td>get touch physical body weak get touch asked p...</td>\n",
       "      <td>[get, touch, physical, body, weak, get, touch,...</td>\n",
       "      <td>150</td>\n",
       "    </tr>\n",
       "    <tr>\n",
       "      <th>1</th>\n",
       "      <td>0</td>\n",
       "      <td>rainbow slid deft hand theodore wondered got e...</td>\n",
       "      <td>[rainbow, slid, deft, hand, theodore, wondered...</td>\n",
       "      <td>150</td>\n",
       "    </tr>\n",
       "    <tr>\n",
       "      <th>2</th>\n",
       "      <td>0</td>\n",
       "      <td>big man wrestled desperately theodore ghastly ...</td>\n",
       "      <td>[big, man, wrestled, desperately, theodore, gh...</td>\n",
       "      <td>150</td>\n",
       "    </tr>\n",
       "    <tr>\n",
       "      <th>3</th>\n",
       "      <td>0</td>\n",
       "      <td>demanded second glass brought colour back wan ...</td>\n",
       "      <td>[demanded, second, glass, brought, colour, bac...</td>\n",
       "      <td>150</td>\n",
       "    </tr>\n",
       "    <tr>\n",
       "      <th>4</th>\n",
       "      <td>0</td>\n",
       "      <td>moment seemed force appeared falter weaken lig...</td>\n",
       "      <td>[moment, seemed, force, appeared, falter, weak...</td>\n",
       "      <td>150</td>\n",
       "    </tr>\n",
       "    <tr>\n",
       "      <th>...</th>\n",
       "      <td>...</td>\n",
       "      <td>...</td>\n",
       "      <td>...</td>\n",
       "      <td>...</td>\n",
       "    </tr>\n",
       "    <tr>\n",
       "      <th>995</th>\n",
       "      <td>4</td>\n",
       "      <td>walk every graceless jerk hurt seemed endless ...</td>\n",
       "      <td>[walk, every, graceless, jerk, hurt, seemed, e...</td>\n",
       "      <td>150</td>\n",
       "    </tr>\n",
       "    <tr>\n",
       "      <th>996</th>\n",
       "      <td>4</td>\n",
       "      <td>maiden aunt sure deeply suffered sure hope how...</td>\n",
       "      <td>[maiden, aunt, sure, deeply, suffered, sure, h...</td>\n",
       "      <td>150</td>\n",
       "    </tr>\n",
       "    <tr>\n",
       "      <th>997</th>\n",
       "      <td>4</td>\n",
       "      <td>management way lover whatever found separated ...</td>\n",
       "      <td>[management, way, lover, whatever, found, sepa...</td>\n",
       "      <td>150</td>\n",
       "    </tr>\n",
       "    <tr>\n",
       "      <th>998</th>\n",
       "      <td>4</td>\n",
       "      <td>must like absence luggage made young woman fee...</td>\n",
       "      <td>[must, like, absence, luggage, made, young, wo...</td>\n",
       "      <td>150</td>\n",
       "    </tr>\n",
       "    <tr>\n",
       "      <th>999</th>\n",
       "      <td>4</td>\n",
       "      <td>little fleda vetch predicament saw owen moment...</td>\n",
       "      <td>[little, fleda, vetch, predicament, saw, owen,...</td>\n",
       "      <td>150</td>\n",
       "    </tr>\n",
       "  </tbody>\n",
       "</table>\n",
       "<p>1000 rows × 4 columns</p>\n",
       "</div>"
      ],
      "text/plain": [
       "     genre                                       cleaned_text  \\\n",
       "0        0  get touch physical body weak get touch asked p...   \n",
       "1        0  rainbow slid deft hand theodore wondered got e...   \n",
       "2        0  big man wrestled desperately theodore ghastly ...   \n",
       "3        0  demanded second glass brought colour back wan ...   \n",
       "4        0  moment seemed force appeared falter weaken lig...   \n",
       "..     ...                                                ...   \n",
       "995      4  walk every graceless jerk hurt seemed endless ...   \n",
       "996      4  maiden aunt sure deeply suffered sure hope how...   \n",
       "997      4  management way lover whatever found separated ...   \n",
       "998      4  must like absence luggage made young woman fee...   \n",
       "999      4  little fleda vetch predicament saw owen moment...   \n",
       "\n",
       "                                             tokenized  words_length  \n",
       "0    [get, touch, physical, body, weak, get, touch,...           150  \n",
       "1    [rainbow, slid, deft, hand, theodore, wondered...           150  \n",
       "2    [big, man, wrestled, desperately, theodore, gh...           150  \n",
       "3    [demanded, second, glass, brought, colour, bac...           150  \n",
       "4    [moment, seemed, force, appeared, falter, weak...           150  \n",
       "..                                                 ...           ...  \n",
       "995  [walk, every, graceless, jerk, hurt, seemed, e...           150  \n",
       "996  [maiden, aunt, sure, deeply, suffered, sure, h...           150  \n",
       "997  [management, way, lover, whatever, found, sepa...           150  \n",
       "998  [must, like, absence, luggage, made, young, wo...           150  \n",
       "999  [little, fleda, vetch, predicament, saw, owen,...           150  \n",
       "\n",
       "[1000 rows x 4 columns]"
      ]
     },
     "metadata": {},
     "output_type": "display_data"
    }
   ],
   "source": [
    "data_df['tokenized'] = data_df['cleaned_text'].apply(lambda x: nltk.tokenize.word_tokenize(x)) #insert a column which contains the tokenized words of each partition.\n",
    "data_df['words_length'] = data_df['tokenized'].apply(lambda x: len(x)) #insert a column which contains the length of the words in each partition.\n",
    "display.display(data_df)"
   ]
  },
  {
   "cell_type": "markdown",
   "id": "endangered-celebration",
   "metadata": {
    "papermill": {
     "duration": 0.042548,
     "end_time": "2021-06-20T11:51:55.812128",
     "exception": false,
     "start_time": "2021-06-20T11:51:55.769580",
     "status": "completed"
    },
    "tags": []
   },
   "source": [
    "# Data Analysis using top 10 frequent words per each book."
   ]
  },
  {
   "cell_type": "code",
   "execution_count": 5,
   "id": "executive-nelson",
   "metadata": {
    "execution": {
     "iopub.execute_input": "2021-06-20T11:51:55.925966Z",
     "iopub.status.busy": "2021-06-20T11:51:55.908926Z",
     "iopub.status.idle": "2021-06-20T11:52:01.866498Z",
     "shell.execute_reply": "2021-06-20T11:52:01.866983Z",
     "shell.execute_reply.started": "2021-06-20T11:49:07.439425Z"
    },
    "papermill": {
     "duration": 6.011026,
     "end_time": "2021-06-20T11:52:01.867160",
     "exception": false,
     "start_time": "2021-06-20T11:51:55.856134",
     "status": "completed"
    },
    "tags": []
   },
   "outputs": [
    {
     "name": "stderr",
     "output_type": "stream",
     "text": [
      "/opt/conda/lib/python3.7/site-packages/pandas/plotting/_matplotlib/tools.py:400: MatplotlibDeprecationWarning: \n",
      "The is_first_col function was deprecated in Matplotlib 3.4 and will be removed two minor releases later. Use ax.get_subplotspec().is_first_col() instead.\n",
      "  if ax.is_first_col():\n",
      "/opt/conda/lib/python3.7/site-packages/pandas/plotting/_matplotlib/tools.py:400: MatplotlibDeprecationWarning: \n",
      "The is_first_col function was deprecated in Matplotlib 3.4 and will be removed two minor releases later. Use ax.get_subplotspec().is_first_col() instead.\n",
      "  if ax.is_first_col():\n",
      "/opt/conda/lib/python3.7/site-packages/pandas/plotting/_matplotlib/tools.py:400: MatplotlibDeprecationWarning: \n",
      "The is_first_col function was deprecated in Matplotlib 3.4 and will be removed two minor releases later. Use ax.get_subplotspec().is_first_col() instead.\n",
      "  if ax.is_first_col():\n",
      "/opt/conda/lib/python3.7/site-packages/pandas/plotting/_matplotlib/tools.py:400: MatplotlibDeprecationWarning: \n",
      "The is_first_col function was deprecated in Matplotlib 3.4 and will be removed two minor releases later. Use ax.get_subplotspec().is_first_col() instead.\n",
      "  if ax.is_first_col():\n",
      "/opt/conda/lib/python3.7/site-packages/pandas/plotting/_matplotlib/tools.py:400: MatplotlibDeprecationWarning: \n",
      "The is_first_col function was deprecated in Matplotlib 3.4 and will be removed two minor releases later. Use ax.get_subplotspec().is_first_col() instead.\n",
      "  if ax.is_first_col():\n"
     ]
    },
    {
     "data": {
      "image/png": "[encoded data removed]",
      "text/plain": [
       "<Figure size 1728x1440 with 10 Axes>"
      ]
     },
     "metadata": {
      "needs_background": "light"
     },
     "output_type": "display_data"
    }
   ],
   "source": [
    "in_cluster_ids = [0,1,2,3,4]\n",
    "top = 10\n",
    "fig, ax = plt.subplots(nrows=5, ncols=2,figsize=(24, 20))\n",
    "ax = ax.ravel()\n",
    "for i in range(len(in_cluster_ids)):\n",
    "    corpus = data_df[data_df[\"genre\"]== in_cluster_ids[i]][\"cleaned_text\"]\n",
    "    lst_tokens = nltk.tokenize.word_tokenize(corpus.str.cat(sep=\" \"))\n",
    "    fig.suptitle(f\"Most frequent words\", fontsize=20)\n",
    "        ## unigrams\n",
    "    dic_words_freq = nltk.FreqDist(nltk.ngrams(lst_tokens, 1))\n",
    "    dtf_uni = pd.DataFrame(dic_words_freq.most_common(), \n",
    "                           columns=[\"Word\",\"Freq\"])\n",
    "    dtf_uni.set_index(\"Word\").iloc[:top,:].sort_values(by=\"Freq\").plot(\n",
    "                      kind=\"barh\", title=\"Unigrams\", ax=ax[i*2], \n",
    "                      legend=False).grid(axis='x')\n",
    "    ax[i*2].set(ylabel=None)\n",
    "\n",
    "    ## bigrams\n",
    "    dic_words_freq = nltk.FreqDist(nltk.ngrams(lst_tokens, 2))\n",
    "    dtf_bi = pd.DataFrame(dic_words_freq.most_common(), \n",
    "                          columns=[\"Word\",\"Freq\"])\n",
    "    dtf_bi[\"Word\"] = dtf_bi[\"Word\"].apply(lambda x: \" \".join(\n",
    "                       string for string in x) )\n",
    "    dtf_bi.set_index(\"Word\").iloc[:top,:].sort_values(by=\"Freq\").plot(\n",
    "                      kind=\"barh\", title=\"Bigrams\", ax=ax[(i*2)+1],\n",
    "                      legend=False).grid(axis='x')\n",
    "    ax[(i*2)+1].set(ylabel=None)\n",
    "plt.savefig('./before_clening.jpg', dpi = 250)\n",
    "plt.show()"
   ]
  },
  {
   "cell_type": "markdown",
   "id": "precise-entry",
   "metadata": {
    "papermill": {
     "duration": 0.047133,
     "end_time": "2021-06-20T11:52:01.962350",
     "exception": false,
     "start_time": "2021-06-20T11:52:01.915217",
     "status": "completed"
    },
    "tags": []
   },
   "source": [
    "# Removing the most repeated words that doesn't indicate any information about the labels."
   ]
  },
  {
   "cell_type": "code",
   "execution_count": 6,
   "id": "continuing-daily",
   "metadata": {
    "execution": {
     "iopub.execute_input": "2021-06-20T11:52:02.110677Z",
     "iopub.status.busy": "2021-06-20T11:52:02.100164Z",
     "iopub.status.idle": "2021-06-20T11:52:02.297305Z",
     "shell.execute_reply": "2021-06-20T11:52:02.296763Z",
     "shell.execute_reply.started": "2021-06-20T11:49:12.181023Z"
    },
    "papermill": {
     "duration": 0.286821,
     "end_time": "2021-06-20T11:52:02.297448",
     "exception": false,
     "start_time": "2021-06-20T11:52:02.010627",
     "status": "completed"
    },
    "tags": []
   },
   "outputs": [
    {
     "data": {
      "text/html": [
       "<div>\n",
       "<style scoped>\n",
       "    .dataframe tbody tr th:only-of-type {\n",
       "        vertical-align: middle;\n",
       "    }\n",
       "\n",
       "    .dataframe tbody tr th {\n",
       "        vertical-align: top;\n",
       "    }\n",
       "\n",
       "    .dataframe thead th {\n",
       "        text-align: right;\n",
       "    }\n",
       "</style>\n",
       "<table border=\"1\" class=\"dataframe\">\n",
       "  <thead>\n",
       "    <tr style=\"text-align: right;\">\n",
       "      <th></th>\n",
       "      <th>genre</th>\n",
       "      <th>cleaned_text</th>\n",
       "      <th>tokenized</th>\n",
       "      <th>words_length</th>\n",
       "      <th>cleaner</th>\n",
       "    </tr>\n",
       "  </thead>\n",
       "  <tbody>\n",
       "    <tr>\n",
       "      <th>0</th>\n",
       "      <td>0</td>\n",
       "      <td>get touch physical body weak get touch asked p...</td>\n",
       "      <td>[get, touch, physical, body, weak, get, touch,...</td>\n",
       "      <td>150</td>\n",
       "      <td>get touch physical body weak get touch asked p...</td>\n",
       "    </tr>\n",
       "    <tr>\n",
       "      <th>1</th>\n",
       "      <td>0</td>\n",
       "      <td>rainbow slid deft hand theodore wondered got e...</td>\n",
       "      <td>[rainbow, slid, deft, hand, theodore, wondered...</td>\n",
       "      <td>150</td>\n",
       "      <td>rainbow slid deft hand theodore wondered got e...</td>\n",
       "    </tr>\n",
       "    <tr>\n",
       "      <th>2</th>\n",
       "      <td>0</td>\n",
       "      <td>big man wrestled desperately theodore ghastly ...</td>\n",
       "      <td>[big, man, wrestled, desperately, theodore, gh...</td>\n",
       "      <td>150</td>\n",
       "      <td>big man wrestled desperately theodore ghastly ...</td>\n",
       "    </tr>\n",
       "    <tr>\n",
       "      <th>3</th>\n",
       "      <td>0</td>\n",
       "      <td>demanded second glass brought colour back wan ...</td>\n",
       "      <td>[demanded, second, glass, brought, colour, bac...</td>\n",
       "      <td>150</td>\n",
       "      <td>demanded second glass brought colour back wan ...</td>\n",
       "    </tr>\n",
       "    <tr>\n",
       "      <th>4</th>\n",
       "      <td>0</td>\n",
       "      <td>moment seemed force appeared falter weaken lig...</td>\n",
       "      <td>[moment, seemed, force, appeared, falter, weak...</td>\n",
       "      <td>150</td>\n",
       "      <td>moment seemed force appeared falter weaken lig...</td>\n",
       "    </tr>\n",
       "    <tr>\n",
       "      <th>...</th>\n",
       "      <td>...</td>\n",
       "      <td>...</td>\n",
       "      <td>...</td>\n",
       "      <td>...</td>\n",
       "      <td>...</td>\n",
       "    </tr>\n",
       "    <tr>\n",
       "      <th>995</th>\n",
       "      <td>4</td>\n",
       "      <td>walk every graceless jerk hurt seemed endless ...</td>\n",
       "      <td>[walk, every, graceless, jerk, hurt, seemed, e...</td>\n",
       "      <td>150</td>\n",
       "      <td>walk every graceless jerk hurt seemed endless ...</td>\n",
       "    </tr>\n",
       "    <tr>\n",
       "      <th>996</th>\n",
       "      <td>4</td>\n",
       "      <td>maiden aunt sure deeply suffered sure hope how...</td>\n",
       "      <td>[maiden, aunt, sure, deeply, suffered, sure, h...</td>\n",
       "      <td>150</td>\n",
       "      <td>maiden aunt sure deeply suffered sure hope how...</td>\n",
       "    </tr>\n",
       "    <tr>\n",
       "      <th>997</th>\n",
       "      <td>4</td>\n",
       "      <td>management way lover whatever found separated ...</td>\n",
       "      <td>[management, way, lover, whatever, found, sepa...</td>\n",
       "      <td>150</td>\n",
       "      <td>management way lover whatever found separated ...</td>\n",
       "    </tr>\n",
       "    <tr>\n",
       "      <th>998</th>\n",
       "      <td>4</td>\n",
       "      <td>must like absence luggage made young woman fee...</td>\n",
       "      <td>[must, like, absence, luggage, made, young, wo...</td>\n",
       "      <td>150</td>\n",
       "      <td>must like absence luggage made young woman fee...</td>\n",
       "    </tr>\n",
       "    <tr>\n",
       "      <th>999</th>\n",
       "      <td>4</td>\n",
       "      <td>little fleda vetch predicament saw owen moment...</td>\n",
       "      <td>[little, fleda, vetch, predicament, saw, owen,...</td>\n",
       "      <td>150</td>\n",
       "      <td>little fleda vetch predicament saw owen moment...</td>\n",
       "    </tr>\n",
       "  </tbody>\n",
       "</table>\n",
       "<p>1000 rows × 5 columns</p>\n",
       "</div>"
      ],
      "text/plain": [
       "     genre                                       cleaned_text  \\\n",
       "0        0  get touch physical body weak get touch asked p...   \n",
       "1        0  rainbow slid deft hand theodore wondered got e...   \n",
       "2        0  big man wrestled desperately theodore ghastly ...   \n",
       "3        0  demanded second glass brought colour back wan ...   \n",
       "4        0  moment seemed force appeared falter weaken lig...   \n",
       "..     ...                                                ...   \n",
       "995      4  walk every graceless jerk hurt seemed endless ...   \n",
       "996      4  maiden aunt sure deeply suffered sure hope how...   \n",
       "997      4  management way lover whatever found separated ...   \n",
       "998      4  must like absence luggage made young woman fee...   \n",
       "999      4  little fleda vetch predicament saw owen moment...   \n",
       "\n",
       "                                             tokenized  words_length  \\\n",
       "0    [get, touch, physical, body, weak, get, touch,...           150   \n",
       "1    [rainbow, slid, deft, hand, theodore, wondered...           150   \n",
       "2    [big, man, wrestled, desperately, theodore, gh...           150   \n",
       "3    [demanded, second, glass, brought, colour, bac...           150   \n",
       "4    [moment, seemed, force, appeared, falter, weak...           150   \n",
       "..                                                 ...           ...   \n",
       "995  [walk, every, graceless, jerk, hurt, seemed, e...           150   \n",
       "996  [maiden, aunt, sure, deeply, suffered, sure, h...           150   \n",
       "997  [management, way, lover, whatever, found, sepa...           150   \n",
       "998  [must, like, absence, luggage, made, young, wo...           150   \n",
       "999  [little, fleda, vetch, predicament, saw, owen,...           150   \n",
       "\n",
       "                                               cleaner  \n",
       "0    get touch physical body weak get touch asked p...  \n",
       "1    rainbow slid deft hand theodore wondered got e...  \n",
       "2    big man wrestled desperately theodore ghastly ...  \n",
       "3    demanded second glass brought colour back wan ...  \n",
       "4    moment seemed force appeared falter weaken lig...  \n",
       "..                                                 ...  \n",
       "995  walk every graceless jerk hurt seemed endless ...  \n",
       "996  maiden aunt sure deeply suffered sure hope how...  \n",
       "997  management way lover whatever found separated ...  \n",
       "998  must like absence luggage made young woman fee...  \n",
       "999  little fleda vetch predicament saw owen moment...  \n",
       "\n",
       "[1000 rows x 5 columns]"
      ]
     },
     "execution_count": 6,
     "metadata": {},
     "output_type": "execute_result"
    }
   ],
   "source": [
    "pattern = r\"(gutenberg)|(book)|(electronic)|(project)|(said)\"\n",
    "data_df['cleaner'] = data_df['cleaned_text'].apply(lambda x: re.sub(pattern,\"\",x))\n",
    "data_df"
   ]
  },
  {
   "cell_type": "markdown",
   "id": "outer-commissioner",
   "metadata": {
    "papermill": {
     "duration": 0.048392,
     "end_time": "2021-06-20T11:52:02.394147",
     "exception": false,
     "start_time": "2021-06-20T11:52:02.345755",
     "status": "completed"
    },
    "tags": []
   },
   "source": [
    "# Visualizing the top 10 frequent words after noise removal."
   ]
  },
  {
   "cell_type": "code",
   "execution_count": 7,
   "id": "exterior-gazette",
   "metadata": {
    "execution": {
     "iopub.execute_input": "2021-06-20T11:52:02.517583Z",
     "iopub.status.busy": "2021-06-20T11:52:02.516891Z",
     "iopub.status.idle": "2021-06-20T11:52:08.541297Z",
     "shell.execute_reply": "2021-06-20T11:52:08.540645Z",
     "shell.execute_reply.started": "2021-06-20T11:49:12.313681Z"
    },
    "papermill": {
     "duration": 6.099084,
     "end_time": "2021-06-20T11:52:08.541452",
     "exception": false,
     "start_time": "2021-06-20T11:52:02.442368",
     "status": "completed"
    },
    "tags": []
   },
   "outputs": [
    {
     "name": "stderr",
     "output_type": "stream",
     "text": [
      "/opt/conda/lib/python3.7/site-packages/pandas/plotting/_matplotlib/tools.py:400: MatplotlibDeprecationWarning: \n",
      "The is_first_col function was deprecated in Matplotlib 3.4 and will be removed two minor releases later. Use ax.get_subplotspec().is_first_col() instead.\n",
      "  if ax.is_first_col():\n",
      "/opt/conda/lib/python3.7/site-packages/pandas/plotting/_matplotlib/tools.py:400: MatplotlibDeprecationWarning: \n",
      "The is_first_col function was deprecated in Matplotlib 3.4 and will be removed two minor releases later. Use ax.get_subplotspec().is_first_col() instead.\n",
      "  if ax.is_first_col():\n",
      "/opt/conda/lib/python3.7/site-packages/pandas/plotting/_matplotlib/tools.py:400: MatplotlibDeprecationWarning: \n",
      "The is_first_col function was deprecated in Matplotlib 3.4 and will be removed two minor releases later. Use ax.get_subplotspec().is_first_col() instead.\n",
      "  if ax.is_first_col():\n",
      "/opt/conda/lib/python3.7/site-packages/pandas/plotting/_matplotlib/tools.py:400: MatplotlibDeprecationWarning: \n",
      "The is_first_col function was deprecated in Matplotlib 3.4 and will be removed two minor releases later. Use ax.get_subplotspec().is_first_col() instead.\n",
      "  if ax.is_first_col():\n",
      "/opt/conda/lib/python3.7/site-packages/pandas/plotting/_matplotlib/tools.py:400: MatplotlibDeprecationWarning: \n",
      "The is_first_col function was deprecated in Matplotlib 3.4 and will be removed two minor releases later. Use ax.get_subplotspec().is_first_col() instead.\n",
      "  if ax.is_first_col():\n"
     ]
    },
    {
     "data": {
      "image/png": "[encoded data removed]",
      "text/plain": [
       "<Figure size 1728x1440 with 10 Axes>"
      ]
     },
     "metadata": {
      "needs_background": "light"
     },
     "output_type": "display_data"
    }
   ],
   "source": [
    "fig, ax = plt.subplots(nrows=5, ncols=2,figsize=(24, 20))\n",
    "ax = ax.ravel()\n",
    "for i in range(len(in_cluster_ids)):\n",
    "    corpus = data_df[data_df[\"genre\"]== in_cluster_ids[i]][\"cleaner\"]\n",
    "    lst_tokens = nltk.tokenize.word_tokenize(corpus.str.cat(sep=\" \"))\n",
    "    fig.suptitle(f\"Most frequent words\", fontsize=20)\n",
    "        ## unigrams\n",
    "    dic_words_freq = nltk.FreqDist(nltk.ngrams(lst_tokens, 1))\n",
    "    dtf_uni = pd.DataFrame(dic_words_freq.most_common(), \n",
    "                           columns=[\"Word\",\"Freq\"])\n",
    "    dtf_uni.set_index(\"Word\").iloc[:top,:].sort_values(by=\"Freq\").plot(\n",
    "                      kind=\"barh\", title=\"Unigrams\", ax=ax[i*2], \n",
    "                      legend=False).grid(axis='x')\n",
    "    ax[i*2].set(ylabel=None)\n",
    "\n",
    "    ## bigrams\n",
    "    dic_words_freq = nltk.FreqDist(nltk.ngrams(lst_tokens, 2))\n",
    "    dtf_bi = pd.DataFrame(dic_words_freq.most_common(), \n",
    "                          columns=[\"Word\",\"Freq\"])\n",
    "    dtf_bi[\"Word\"] = dtf_bi[\"Word\"].apply(lambda x: \" \".join(\n",
    "                       string for string in x) )\n",
    "    dtf_bi.set_index(\"Word\").iloc[:top,:].sort_values(by=\"Freq\").plot(\n",
    "                      kind=\"barh\", title=\"Bigrams\", ax=ax[(i*2)+1],\n",
    "                      legend=False).grid(axis='x')\n",
    "    ax[(i*2)+1].set(ylabel=None)\n",
    "plt.savefig('./after_clening.jpg', dpi = 250)\n",
    "plt.show()"
   ]
  },
  {
   "cell_type": "markdown",
   "id": "great-dairy",
   "metadata": {
    "papermill": {
     "duration": 0.052971,
     "end_time": "2021-06-20T11:52:08.648381",
     "exception": false,
     "start_time": "2021-06-20T11:52:08.595410",
     "status": "completed"
    },
    "tags": []
   },
   "source": [
    "# Visualizing the top collocations of each book and calculting the PMI."
   ]
  },
  {
   "cell_type": "markdown",
   "id": "ecological-liverpool",
   "metadata": {
    "papermill": {
     "duration": 0.052819,
     "end_time": "2021-06-20T11:52:08.754234",
     "exception": false,
     "start_time": "2021-06-20T11:52:08.701415",
     "status": "completed"
    },
    "tags": []
   },
   "source": [
    "Collocations are phrases or expressions containing multiple words, that are highly likely to co-occur. For example: ‘social media’, ‘school holiday’, ‘machine learning’, and ‘Universal Studios Singapore’. Collocations helped me in fetching the two or three words that are highly likely to co-occur around these themes. collocations differs than bigram and trigrams in the technique by which it collects the words. it measures the similarity between two words and gives meaningful collection [4]."
   ]
  },
  {
   "cell_type": "code",
   "execution_count": 8,
   "id": "searching-rally",
   "metadata": {
    "execution": {
     "iopub.execute_input": "2021-06-20T11:52:08.921889Z",
     "iopub.status.busy": "2021-06-20T11:52:08.869608Z",
     "iopub.status.idle": "2021-06-20T11:52:12.836136Z",
     "shell.execute_reply": "2021-06-20T11:52:12.835590Z",
     "shell.execute_reply.started": "2021-06-20T11:49:17.134897Z"
    },
    "papermill": {
     "duration": 4.028606,
     "end_time": "2021-06-20T11:52:12.836302",
     "exception": false,
     "start_time": "2021-06-20T11:52:08.807696",
     "status": "completed"
    },
    "tags": []
   },
   "outputs": [
    {
     "name": "stdout",
     "output_type": "stream",
     "text": [
      "===================Collocataion of book 0:======================================\n"
     ]
    },
    {
     "data": {
      "application/vnd.jupyter.widget-view+json": {
       "model_id": "192e84d8947a4154b4411b296d46f387",
       "version_major": 2,
       "version_minor": 0
      },
      "text/plain": [
       "HBox(children=(Output(), Output()))"
      ]
     },
     "metadata": {},
     "output_type": "display_data"
    },
    {
     "name": "stdout",
     "output_type": "stream",
     "text": [
      "===================Collocataion of book 1:======================================\n"
     ]
    },
    {
     "data": {
      "application/vnd.jupyter.widget-view+json": {
       "model_id": "6397ea6cb0fb44dea3b1ab0b78fb1fab",
       "version_major": 2,
       "version_minor": 0
      },
      "text/plain": [
       "HBox(children=(Output(), Output()))"
      ]
     },
     "metadata": {},
     "output_type": "display_data"
    },
    {
     "name": "stdout",
     "output_type": "stream",
     "text": [
      "===================Collocataion of book 2:======================================\n"
     ]
    },
    {
     "data": {
      "application/vnd.jupyter.widget-view+json": {
       "model_id": "f6bcd00cb36740689ca09b97aaa65153",
       "version_major": 2,
       "version_minor": 0
      },
      "text/plain": [
       "HBox(children=(Output(), Output()))"
      ]
     },
     "metadata": {},
     "output_type": "display_data"
    },
    {
     "name": "stdout",
     "output_type": "stream",
     "text": [
      "===================Collocataion of book 3:======================================\n"
     ]
    },
    {
     "data": {
      "application/vnd.jupyter.widget-view+json": {
       "model_id": "3b18aead8d5f4d9db69ae2f557b07833",
       "version_major": 2,
       "version_minor": 0
      },
      "text/plain": [
       "HBox(children=(Output(), Output()))"
      ]
     },
     "metadata": {},
     "output_type": "display_data"
    },
    {
     "name": "stdout",
     "output_type": "stream",
     "text": [
      "===================Collocataion of book 4:======================================\n"
     ]
    },
    {
     "data": {
      "application/vnd.jupyter.widget-view+json": {
       "model_id": "23b7e238eae2424881808779efde1317",
       "version_major": 2,
       "version_minor": 0
      },
      "text/plain": [
       "HBox(children=(Output(), Output()))"
      ]
     },
     "metadata": {},
     "output_type": "display_data"
    }
   ],
   "source": [
    "for in_cluster_id in in_cluster_ids:\n",
    "    print(f'===================Collocataion of book {in_cluster_id}:======================================')\n",
    "    corpus = data_df[data_df[\"genre\"]== in_cluster_id][\"cleaner\"]\n",
    "    tokens = nltk.tokenize.word_tokenize(corpus.str.cat(sep=\" \"))\n",
    "    bigrams = nltk.collocations.BigramAssocMeasures()\n",
    "    trigrams = nltk.collocations.TrigramAssocMeasures()\n",
    "    bigramFinder = nltk.collocations.BigramCollocationFinder.from_words(tokens)\n",
    "    trigramFinder = nltk.collocations.TrigramCollocationFinder.from_words(tokens)\n",
    "    bigramPMITable = pd.DataFrame(list(bigramFinder.score_ngrams(bigrams.pmi)), columns=['bigram','PMI']).sort_values(by='PMI', ascending=False)\n",
    "    trigramPMITable = pd.DataFrame(list(trigramFinder.score_ngrams(trigrams.pmi)), columns=['trigram','PMI']).sort_values(by='PMI', ascending=False)\n",
    "\n",
    "    # create output widgets\n",
    "    widget1 = widgets.Output()\n",
    "    widget2 = widgets.Output()\n",
    "\n",
    "    # render in output widgets\n",
    "    with widget1:\n",
    "        display.display(bigramPMITable)\n",
    "    with widget2:\n",
    "        display.display(trigramPMITable)\n",
    "\n",
    "    # create HBox\n",
    "    hbox = widgets.HBox([widget1, widget2])\n",
    "\n",
    "    # render hbox\n",
    "    display.display(hbox)"
   ]
  },
  {
   "cell_type": "markdown",
   "id": "premier-curtis",
   "metadata": {
    "papermill": {
     "duration": 0.056839,
     "end_time": "2021-06-20T11:52:12.954665",
     "exception": false,
     "start_time": "2021-06-20T11:52:12.897826",
     "status": "completed"
    },
    "tags": []
   },
   "source": [
    "> Variables in which the data is stored."
   ]
  },
  {
   "cell_type": "code",
   "execution_count": 9,
   "id": "destroyed-locking",
   "metadata": {
    "execution": {
     "iopub.execute_input": "2021-06-20T11:52:13.081759Z",
     "iopub.status.busy": "2021-06-20T11:52:13.081197Z",
     "iopub.status.idle": "2021-06-20T11:52:13.082297Z",
     "shell.execute_reply": "2021-06-20T11:52:13.076488Z",
     "shell.execute_reply.started": "2021-06-20T11:49:19.590917Z"
    },
    "papermill": {
     "duration": 0.070702,
     "end_time": "2021-06-20T11:52:13.082440",
     "exception": false,
     "start_time": "2021-06-20T11:52:13.011738",
     "status": "completed"
    },
    "tags": []
   },
   "outputs": [],
   "source": [
    "X_train = data_df['cleaner']\n",
    "y_train = data_df['genre']"
   ]
  },
  {
   "cell_type": "markdown",
   "id": "authorized-glory",
   "metadata": {
    "papermill": {
     "duration": 0.056376,
     "end_time": "2021-06-20T11:52:13.196136",
     "exception": false,
     "start_time": "2021-06-20T11:52:13.139760",
     "status": "completed"
    },
    "tags": []
   },
   "source": [
    "# Feature Engineering\n",
    "\n",
    "We can't use the text itself by machine learning. so, it should be converted into vectors with a numeric values. There are various approaches from which we used in this project. For example: Bag of Words(BOW), term frequency inverse document frequency (TF-IDF), and word embeddings [5]."
   ]
  },
  {
   "cell_type": "markdown",
   "id": "impaired-notion",
   "metadata": {
    "papermill": {
     "duration": 0.05687,
     "end_time": "2021-06-20T11:52:13.310413",
     "exception": false,
     "start_time": "2021-06-20T11:52:13.253543",
     "status": "completed"
    },
    "tags": []
   },
   "source": [
    "# BOW\n",
    "\n",
    "Count Vectors as features (BOW) Count Vector is a matrix notation of the dataset in which every row represents a document from the text, every column represents a term from the text, and every cell represents the frequency count of a particular term in a particular document."
   ]
  },
  {
   "cell_type": "code",
   "execution_count": 10,
   "id": "paperback-drinking",
   "metadata": {
    "execution": {
     "iopub.execute_input": "2021-06-20T11:52:13.436996Z",
     "iopub.status.busy": "2021-06-20T11:52:13.436331Z",
     "iopub.status.idle": "2021-06-20T11:52:13.796196Z",
     "shell.execute_reply": "2021-06-20T11:52:13.795579Z",
     "shell.execute_reply.started": "2021-06-20T11:49:19.600096Z"
    },
    "papermill": {
     "duration": 0.429165,
     "end_time": "2021-06-20T11:52:13.796354",
     "exception": false,
     "start_time": "2021-06-20T11:52:13.367189",
     "status": "completed"
    },
    "tags": []
   },
   "outputs": [],
   "source": [
    "# create a count vectorizer object \n",
    "count_vect = CountVectorizer(analyzer='word')\n",
    "count_vect.fit(X_train)\n",
    "\n",
    "# transform the training and validation data using count vectorizer object\n",
    "xtrain_BOW =  count_vect.transform(X_train)"
   ]
  },
  {
   "cell_type": "markdown",
   "id": "corresponding-medium",
   "metadata": {
    "papermill": {
     "duration": 0.05718,
     "end_time": "2021-06-20T11:52:13.912654",
     "exception": false,
     "start_time": "2021-06-20T11:52:13.855474",
     "status": "completed"
    },
    "tags": []
   },
   "source": [
    "# TF-IDF\n",
    "\n",
    "TF-IDF score represents the relative importance of a term in the document and the entire text. TF-IDF score is composed by two terms:\n",
    "\n",
    "* the first computes the normalized Term Frequency (TF),\n",
    "\n",
    "* the second term is the Inverse Document Frequency (IDF), computed as the logarithm of the number of the documents in the corpus divided by the number of documents where the specific term appears.\n",
    "\n",
    "TF(t) = (Number of times term t appears in a document) / (Total number of terms in the document) IDF(t) = log_e(Total number of documents / Number of documents with term t in it)\n",
    "\n",
    "TF-IDF Vectors can be generated at different levels of input tokens (words, characters, n-grams):\n",
    "\n",
    "* Word Level TF-IDF : Matrix representing tf-idf scores of every term in different documents\n",
    "\n",
    "* N-gram Level TF-IDF : N-grams are the combination of N terms together. This Matrix representing tf-idf scores of N-grams"
   ]
  },
  {
   "cell_type": "code",
   "execution_count": 11,
   "id": "spare-reducing",
   "metadata": {
    "execution": {
     "iopub.execute_input": "2021-06-20T11:52:14.083144Z",
     "iopub.status.busy": "2021-06-20T11:52:14.067677Z",
     "iopub.status.idle": "2021-06-20T11:52:16.253855Z",
     "shell.execute_reply": "2021-06-20T11:52:16.253331Z",
     "shell.execute_reply.started": "2021-06-20T11:49:19.886904Z"
    },
    "papermill": {
     "duration": 2.28369,
     "end_time": "2021-06-20T11:52:16.254025",
     "exception": false,
     "start_time": "2021-06-20T11:52:13.970335",
     "status": "completed"
    },
    "tags": []
   },
   "outputs": [],
   "source": [
    "# word level tf-idf\n",
    "tfidf_vect = TfidfVectorizer(analyzer='word', token_pattern=r'\\w{1,}', max_features=5000)\n",
    "tfidf_vect.fit(X_train)\n",
    "xtrain_tfidf_unigram =  tfidf_vect.transform(X_train)\n",
    "\n",
    "# ngram level tf-idf \n",
    "tfidf_vect_ngram = TfidfVectorizer(analyzer='word', token_pattern=r'\\w{1,}', ngram_range=(2,2), max_features=5000)\n",
    "tfidf_vect_ngram.fit(X_train)\n",
    "xtrain_tfidf_bigram =  tfidf_vect_ngram.transform(X_train)\n",
    "# print(xtrain_tfidf_ngram)\n",
    "\n",
    "tfidf_vect_ngram = TfidfVectorizer(analyzer='word', token_pattern=r'\\w{1,}', ngram_range=(2,3), max_features=5000)\n",
    "tfidf_vect_ngram.fit(X_train)\n",
    "xtrain_tfidf_ngram =  tfidf_vect_ngram.transform(X_train)"
   ]
  },
  {
   "cell_type": "markdown",
   "id": "formed-marsh",
   "metadata": {
    "papermill": {
     "duration": 0.056065,
     "end_time": "2021-06-20T11:52:16.367207",
     "exception": false,
     "start_time": "2021-06-20T11:52:16.311142",
     "status": "completed"
    },
    "tags": []
   },
   "source": [
    "# Word Embeddings\n",
    "It is a numeric vector input that represents a word in a lower-dimensional space. It allows words with similar meaning to have a similar representation. it's goal is: reducing dimensionality, using a word to predict the words around it, capturing inter word semantics. the words are taken and trained using machine learning models [6]. In the project, we use gensim library for word embedding training nad extracting the features that were used in clustering."
   ]
  },
  {
   "cell_type": "code",
   "execution_count": 12,
   "id": "usual-garlic",
   "metadata": {
    "execution": {
     "iopub.execute_input": "2021-06-20T11:52:16.501738Z",
     "iopub.status.busy": "2021-06-20T11:52:16.496697Z",
     "iopub.status.idle": "2021-06-20T11:52:17.764566Z",
     "shell.execute_reply": "2021-06-20T11:52:17.763959Z",
     "shell.execute_reply.started": "2021-06-20T11:49:21.516932Z"
    },
    "papermill": {
     "duration": 1.341115,
     "end_time": "2021-06-20T11:52:17.764708",
     "exception": false,
     "start_time": "2021-06-20T11:52:16.423593",
     "status": "completed"
    },
    "tags": []
   },
   "outputs": [],
   "source": [
    "tokenized_corpus = data_df['tokenized'] #the data as tokens\n",
    "model = gensim.models.Word2Vec(tokenized_corpus, min_count=1 ) #training the data using word2vec method in gensim library.\n",
    " "
   ]
  },
  {
   "cell_type": "markdown",
   "id": "rolled-macedonia",
   "metadata": {
    "papermill": {
     "duration": 0.056197,
     "end_time": "2021-06-20T11:52:17.877640",
     "exception": false,
     "start_time": "2021-06-20T11:52:17.821443",
     "status": "completed"
    },
    "tags": []
   },
   "source": [
    "> Extracting features from word embedding methods."
   ]
  },
  {
   "cell_type": "code",
   "execution_count": 13,
   "id": "renewable-repeat",
   "metadata": {
    "execution": {
     "iopub.execute_input": "2021-06-20T11:52:18.029165Z",
     "iopub.status.busy": "2021-06-20T11:52:18.027423Z",
     "iopub.status.idle": "2021-06-20T11:52:18.041495Z",
     "shell.execute_reply": "2021-06-20T11:52:18.041972Z",
     "shell.execute_reply.started": "2021-06-20T11:49:22.529201Z"
    },
    "papermill": {
     "duration": 0.10771,
     "end_time": "2021-06-20T11:52:18.042150",
     "exception": false,
     "start_time": "2021-06-20T11:52:17.934440",
     "status": "completed"
    },
    "tags": []
   },
   "outputs": [],
   "source": [
    "X_embedd_list = model.wv.index_to_key\n",
    "X_embedd = model.wv[X_embedd_list]\n"
   ]
  },
  {
   "cell_type": "markdown",
   "id": "unnecessary-hungary",
   "metadata": {
    "papermill": {
     "duration": 0.056606,
     "end_time": "2021-06-20T11:52:18.155615",
     "exception": false,
     "start_time": "2021-06-20T11:52:18.099009",
     "status": "completed"
    },
    "tags": []
   },
   "source": [
    "# Clustering\n",
    "\n",
    "We used three algorithms for clustering: \n",
    "\n",
    "* **kmeans:** it is trying to seperate the samples into number of groups, each group has equal variance. it divides the data into disjoint clusters that are described by the mean which is called the centroid [2].\n",
    "\n",
    "* **Hierarchial clustering:** it's a general family of clustering algorithms that build nested clusters by merging or splitting them successively. This hierarchy of clusters is represented as a tree (or dendrogram). The root of the tree is the unique cluster that gathers all the samples, the leaves being the clusters with only one sample [2].\n",
    "\n",
    "* **Expectatation maximization (Gaussian Mixture):** it is a probabilistic model that assumes all the data points are generated from a mixture of a finite number of Gaussian distributions with unknown parameters. One can think of mixture models as generalizing k-means clustering to incorporate information about the covariance structure of the data as well as the centers of the latent Gaussians [2]."
   ]
  },
  {
   "cell_type": "code",
   "execution_count": 14,
   "id": "supported-glasgow",
   "metadata": {
    "execution": {
     "iopub.execute_input": "2021-06-20T11:52:18.275369Z",
     "iopub.status.busy": "2021-06-20T11:52:18.274728Z",
     "iopub.status.idle": "2021-06-20T11:52:18.277969Z",
     "shell.execute_reply": "2021-06-20T11:52:18.277460Z",
     "shell.execute_reply.started": "2021-06-20T11:49:22.564013Z"
    },
    "papermill": {
     "duration": 0.065677,
     "end_time": "2021-06-20T11:52:18.278101",
     "exception": false,
     "start_time": "2021-06-20T11:52:18.212424",
     "status": "completed"
    },
    "tags": []
   },
   "outputs": [],
   "source": [
    "featured_x_train = [xtrain_BOW , xtrain_tfidf_unigram , xtrain_tfidf_bigram, xtrain_tfidf_ngram] #a list which contains all outputs from feature engineering \n",
    "                                                                                                        #and considered as input features to clustering models\n",
    "km_kappa = []\n",
    "km_silhouette = []\n",
    "km_coherence = []\n",
    "agg_kappa = []\n",
    "agg_silhouette = []\n",
    "agg_coherence = []\n",
    "em_kappa = []\n",
    "em_silhouette = []\n",
    "em_coherence = []\n",
    "km_v_measure = []\n",
    "agg_v_measure = []\n",
    "em_v_measure = []"
   ]
  },
  {
   "cell_type": "code",
   "execution_count": 15,
   "id": "ceramic-bibliography",
   "metadata": {
    "execution": {
     "iopub.execute_input": "2021-06-20T11:52:18.395253Z",
     "iopub.status.busy": "2021-06-20T11:52:18.394577Z",
     "iopub.status.idle": "2021-06-20T11:52:18.399585Z",
     "shell.execute_reply": "2021-06-20T11:52:18.400127Z",
     "shell.execute_reply.started": "2021-06-20T11:49:22.571163Z"
    },
    "papermill": {
     "duration": 0.064609,
     "end_time": "2021-06-20T11:52:18.400297",
     "exception": false,
     "start_time": "2021-06-20T11:52:18.335688",
     "status": "completed"
    },
    "tags": []
   },
   "outputs": [
    {
     "data": {
      "text/plain": [
       "5"
      ]
     },
     "execution_count": 15,
     "metadata": {},
     "output_type": "execute_result"
    }
   ],
   "source": [
    "true_k = np.unique(data_df['genre']).shape[0]\n",
    "true_k #number of clusters =  number of labels"
   ]
  },
  {
   "cell_type": "markdown",
   "id": "swiss-element",
   "metadata": {
    "papermill": {
     "duration": 0.056789,
     "end_time": "2021-06-20T11:52:18.513797",
     "exception": false,
     "start_time": "2021-06-20T11:52:18.457008",
     "status": "completed"
    },
    "tags": []
   },
   "source": [
    "# Applying clustering algorithms and holding the results of performance evaluation metrics to lists for further analysis.\n",
    "\n",
    "The lists are holding the results of performance evaluation metrics like silhoutte co-efficent, kappa, coherence, and v-measure."
   ]
  },
  {
   "cell_type": "code",
   "execution_count": 16,
   "id": "alternative-hurricane",
   "metadata": {
    "execution": {
     "iopub.execute_input": "2021-06-20T11:52:18.630888Z",
     "iopub.status.busy": "2021-06-20T11:52:18.630271Z",
     "iopub.status.idle": "2021-06-20T11:52:38.237288Z",
     "shell.execute_reply": "2021-06-20T11:52:38.238239Z",
     "shell.execute_reply.started": "2021-06-20T11:49:22.583796Z"
    },
    "papermill": {
     "duration": 19.667883,
     "end_time": "2021-06-20T11:52:38.238536",
     "exception": false,
     "start_time": "2021-06-20T11:52:18.570653",
     "status": "completed"
    },
    "tags": []
   },
   "outputs": [],
   "source": [
    "for i in featured_x_train:\n",
    "    kms = KMeans(n_clusters=true_k, init='k-means++', max_iter=300,n_init = 1,random_state=42,verbose=0)\n",
    "    kms.fit(i)\n",
    "    km_kappa.append(metrics.cohen_kappa_score(y_train, kms.labels_))\n",
    "    km_silhouette.append(metrics.silhouette_score(i, kms.labels_))\n",
    "    km_coherence.append(metrics.normalized_mutual_info_score(y_train, kms.labels_))\n",
    "    km_v_measure.append(metrics.v_measure_score(y_train, kms.labels_))\n",
    "    \n",
    "    cluster = AgglomerativeClustering(n_clusters=true_k, affinity='euclidean', linkage='ward')\n",
    "    cluster.fit(i.todense())\n",
    "    agg_kappa.append(metrics.cohen_kappa_score(y_train, cluster.labels_))\n",
    "    agg_silhouette.append(metrics.silhouette_score(i, cluster.labels_))\n",
    "    agg_coherence.append(metrics.normalized_mutual_info_score(y_train, kms.labels_))\n",
    "    agg_v_measure.append(metrics.v_measure_score(y_train, kms.labels_))\n",
    "    \n",
    "    \n",
    "    gm = GaussianMixture(n_components= true_k, covariance_type = 'diag',random_state=42)\n",
    "    gm.fit(i.toarray())\n",
    "    em_kappa.append(metrics.cohen_kappa_score(y_train, gm.predict(i.toarray())))\n",
    "    em_silhouette.append(metrics.silhouette_score(i, gm.predict(i.toarray())))\n",
    "    em_coherence.append(metrics.normalized_mutual_info_score(y_train, gm.predict(i.toarray())))\n",
    "    em_v_measure.append(metrics.v_measure_score(y_train, gm.predict(i.toarray())))\n",
    "    \n"
   ]
  },
  {
   "cell_type": "markdown",
   "id": "small-edmonton",
   "metadata": {
    "papermill": {
     "duration": 0.057958,
     "end_time": "2021-06-20T11:52:38.405461",
     "exception": false,
     "start_time": "2021-06-20T11:52:38.347503",
     "status": "completed"
    },
    "tags": []
   },
   "source": [
    "# Applying clustering algorithms on word embeddings and evaluate the silhoutte coefficent."
   ]
  },
  {
   "cell_type": "code",
   "execution_count": 17,
   "id": "hairy-adult",
   "metadata": {
    "execution": {
     "iopub.execute_input": "2021-06-20T11:52:38.527030Z",
     "iopub.status.busy": "2021-06-20T11:52:38.526357Z",
     "iopub.status.idle": "2021-06-20T11:52:57.746716Z",
     "shell.execute_reply": "2021-06-20T11:52:57.747239Z",
     "shell.execute_reply.started": "2021-06-20T11:49:41.968445Z"
    },
    "papermill": {
     "duration": 19.285227,
     "end_time": "2021-06-20T11:52:57.747472",
     "exception": false,
     "start_time": "2021-06-20T11:52:38.462245",
     "status": "completed"
    },
    "tags": []
   },
   "outputs": [],
   "source": [
    "kms = KMeans(n_clusters=true_k, init='k-means++', max_iter=300,n_init = 1,random_state=42,verbose=0)\n",
    "kms.fit(X_embedd)\n",
    "embed_pred = kms.labels_\n",
    "km_silhouette.append(metrics.silhouette_score(X_embedd, kms.labels_))\n",
    "\n",
    "cluster = AgglomerativeClustering(n_clusters=true_k, affinity='euclidean', linkage='ward')\n",
    "cluster.fit(X_embedd)\n",
    "agg_silhouette.append(metrics.silhouette_score(X_embedd, cluster.labels_))\n",
    "\n",
    "\n",
    "gm = GaussianMixture(n_components= true_k, covariance_type = 'tied',random_state=42)\n",
    "gm.fit(X_embedd)\n",
    "em_silhouette.append(metrics.silhouette_score(X_embedd, gm.predict(X_embedd)))"
   ]
  },
  {
   "cell_type": "markdown",
   "id": "proper-fusion",
   "metadata": {
    "papermill": {
     "duration": 0.056984,
     "end_time": "2021-06-20T11:52:57.862044",
     "exception": false,
     "start_time": "2021-06-20T11:52:57.805060",
     "status": "completed"
    },
    "tags": []
   },
   "source": [
    "# Evaluation\n",
    "\n",
    "Evaluating the performance of a clustering algorithm is not as trivial as counting the number of errors or the precision and recall of a supervised classification algorithm. In particular any evaluation metric should not take the absolute values of the cluster labels into account but rather if this clustering define separations of the data similar to some ground truth set of classes or satisfying some assumption such that members belong to the same class are more similar than members of different classes according to some similarity metric [2]. we use in this project four performance evaluation metrics:\n",
    "\n",
    "* Silhouette coefficient: A measure of how similar an object is to its own cluster (cohesion) compared to other clusters (separation). its range is [-1,1], The higher value, the better avg match is within the cluster.\n",
    "\n",
    "* Cohen's Kappa: measures the inter-agreement between two classifiers.\n",
    "\n",
    "* Normalized matual information score (Cohesion Evaluation): it is a function that measures the agreement of the two assignments, ignoring permutations.\n",
    "\n",
    "* V_measure: it is the harmonic mean of homogenity score -each cluster contains only members of a single class- and completeness score -all members of a given class are assigned to the same cluster- [2]."
   ]
  },
  {
   "cell_type": "markdown",
   "id": "regional-alexandria",
   "metadata": {
    "papermill": {
     "duration": 0.058746,
     "end_time": "2021-06-20T11:52:57.979103",
     "exception": false,
     "start_time": "2021-06-20T11:52:57.920357",
     "status": "completed"
    },
    "tags": []
   },
   "source": [
    "# Silhoutee Coefficient"
   ]
  },
  {
   "cell_type": "code",
   "execution_count": 18,
   "id": "equipped-sentence",
   "metadata": {
    "execution": {
     "iopub.execute_input": "2021-06-20T11:52:58.115087Z",
     "iopub.status.busy": "2021-06-20T11:52:58.114316Z",
     "iopub.status.idle": "2021-06-20T11:52:58.118232Z",
     "shell.execute_reply": "2021-06-20T11:52:58.118670Z",
     "shell.execute_reply.started": "2021-06-20T11:49:59.319192Z"
    },
    "papermill": {
     "duration": 0.079362,
     "end_time": "2021-06-20T11:52:58.118844",
     "exception": false,
     "start_time": "2021-06-20T11:52:58.039482",
     "status": "completed"
    },
    "tags": []
   },
   "outputs": [
    {
     "data": {
      "text/html": [
       "<div>\n",
       "<style scoped>\n",
       "    .dataframe tbody tr th:only-of-type {\n",
       "        vertical-align: middle;\n",
       "    }\n",
       "\n",
       "    .dataframe tbody tr th {\n",
       "        vertical-align: top;\n",
       "    }\n",
       "\n",
       "    .dataframe thead th {\n",
       "        text-align: right;\n",
       "    }\n",
       "</style>\n",
       "<table border=\"1\" class=\"dataframe\">\n",
       "  <thead>\n",
       "    <tr style=\"text-align: right;\">\n",
       "      <th></th>\n",
       "      <th>Evaluation</th>\n",
       "      <th>xtrain_BOW</th>\n",
       "      <th>xtrain_tfidf_unigram</th>\n",
       "      <th>xtrain_tfidf_bigram</th>\n",
       "      <th>xtrain_tfidf_ngram</th>\n",
       "      <th>X_Embedding</th>\n",
       "    </tr>\n",
       "  </thead>\n",
       "  <tbody>\n",
       "    <tr>\n",
       "      <th>0</th>\n",
       "      <td>k-means_silhouette</td>\n",
       "      <td>0.035816</td>\n",
       "      <td>0.023348</td>\n",
       "      <td>0.022441</td>\n",
       "      <td>0.016737</td>\n",
       "      <td>0.668579</td>\n",
       "    </tr>\n",
       "    <tr>\n",
       "      <th>1</th>\n",
       "      <td>Hierarchical_silhouette</td>\n",
       "      <td>0.038425</td>\n",
       "      <td>0.035805</td>\n",
       "      <td>0.020325</td>\n",
       "      <td>0.028864</td>\n",
       "      <td>0.634582</td>\n",
       "    </tr>\n",
       "    <tr>\n",
       "      <th>2</th>\n",
       "      <td>EM_silhouette</td>\n",
       "      <td>0.035742</td>\n",
       "      <td>0.023389</td>\n",
       "      <td>0.024835</td>\n",
       "      <td>0.012213</td>\n",
       "      <td>0.721196</td>\n",
       "    </tr>\n",
       "  </tbody>\n",
       "</table>\n",
       "</div>"
      ],
      "text/plain": [
       "                Evaluation  xtrain_BOW  xtrain_tfidf_unigram  \\\n",
       "0       k-means_silhouette    0.035816              0.023348   \n",
       "1  Hierarchical_silhouette    0.038425              0.035805   \n",
       "2            EM_silhouette    0.035742              0.023389   \n",
       "\n",
       "   xtrain_tfidf_bigram  xtrain_tfidf_ngram  X_Embedding  \n",
       "0             0.022441            0.016737     0.668579  \n",
       "1             0.020325            0.028864     0.634582  \n",
       "2             0.024835            0.012213     0.721196  "
      ]
     },
     "metadata": {},
     "output_type": "display_data"
    }
   ],
   "source": [
    "evaluation = ['k-means_silhouette','Hierarchical_silhouette','EM_silhouette']\n",
    "silhouette_results_df = pd.DataFrame((km_silhouette,agg_silhouette,em_silhouette) , columns =  ['xtrain_BOW' , 'xtrain_tfidf_unigram' , 'xtrain_tfidf_bigram', 'xtrain_tfidf_ngram', 'X_Embedding'])\n",
    "silhouette_results_df['Evaluation'] = evaluation\n",
    "silhouette_results_df.set_index('Evaluation')\n",
    "first_col = silhouette_results_df.pop('Evaluation')\n",
    "silhouette_results_df.insert(0, 'Evaluation', first_col)\n",
    "display.display(silhouette_results_df)"
   ]
  },
  {
   "cell_type": "markdown",
   "id": "scenic-moderator",
   "metadata": {
    "papermill": {
     "duration": 0.058051,
     "end_time": "2021-06-20T11:52:58.235372",
     "exception": false,
     "start_time": "2021-06-20T11:52:58.177321",
     "status": "completed"
    },
    "tags": []
   },
   "source": [
    "# V-measure"
   ]
  },
  {
   "cell_type": "code",
   "execution_count": 19,
   "id": "magnetic-financing",
   "metadata": {
    "execution": {
     "iopub.execute_input": "2021-06-20T11:52:58.367039Z",
     "iopub.status.busy": "2021-06-20T11:52:58.360343Z",
     "iopub.status.idle": "2021-06-20T11:52:58.371630Z",
     "shell.execute_reply": "2021-06-20T11:52:58.371079Z",
     "shell.execute_reply.started": "2021-06-20T11:49:59.338142Z"
    },
    "papermill": {
     "duration": 0.078692,
     "end_time": "2021-06-20T11:52:58.371772",
     "exception": false,
     "start_time": "2021-06-20T11:52:58.293080",
     "status": "completed"
    },
    "tags": []
   },
   "outputs": [
    {
     "data": {
      "text/html": [
       "<div>\n",
       "<style scoped>\n",
       "    .dataframe tbody tr th:only-of-type {\n",
       "        vertical-align: middle;\n",
       "    }\n",
       "\n",
       "    .dataframe tbody tr th {\n",
       "        vertical-align: top;\n",
       "    }\n",
       "\n",
       "    .dataframe thead th {\n",
       "        text-align: right;\n",
       "    }\n",
       "</style>\n",
       "<table border=\"1\" class=\"dataframe\">\n",
       "  <thead>\n",
       "    <tr style=\"text-align: right;\">\n",
       "      <th></th>\n",
       "      <th>Evaluation</th>\n",
       "      <th>xtrain_BOW</th>\n",
       "      <th>xtrain_tfidf_unigram</th>\n",
       "      <th>xtrain_tfidf_bigram</th>\n",
       "      <th>xtrain_tfidf_ngram</th>\n",
       "    </tr>\n",
       "  </thead>\n",
       "  <tbody>\n",
       "    <tr>\n",
       "      <th>0</th>\n",
       "      <td>k-means_v_measure</td>\n",
       "      <td>0.564475</td>\n",
       "      <td>0.730180</td>\n",
       "      <td>0.419387</td>\n",
       "      <td>0.371727</td>\n",
       "    </tr>\n",
       "    <tr>\n",
       "      <th>1</th>\n",
       "      <td>Hierarchical_v_measure</td>\n",
       "      <td>0.564475</td>\n",
       "      <td>0.730180</td>\n",
       "      <td>0.419387</td>\n",
       "      <td>0.371727</td>\n",
       "    </tr>\n",
       "    <tr>\n",
       "      <th>2</th>\n",
       "      <td>EM_v_measure</td>\n",
       "      <td>0.570031</td>\n",
       "      <td>0.732866</td>\n",
       "      <td>0.391581</td>\n",
       "      <td>0.338895</td>\n",
       "    </tr>\n",
       "  </tbody>\n",
       "</table>\n",
       "</div>"
      ],
      "text/plain": [
       "               Evaluation  xtrain_BOW  xtrain_tfidf_unigram  \\\n",
       "0       k-means_v_measure    0.564475              0.730180   \n",
       "1  Hierarchical_v_measure    0.564475              0.730180   \n",
       "2            EM_v_measure    0.570031              0.732866   \n",
       "\n",
       "   xtrain_tfidf_bigram  xtrain_tfidf_ngram  \n",
       "0             0.419387            0.371727  \n",
       "1             0.419387            0.371727  \n",
       "2             0.391581            0.338895  "
      ]
     },
     "metadata": {},
     "output_type": "display_data"
    }
   ],
   "source": [
    "evaluation =  ['k-means_v_measure','Hierarchical_v_measure','EM_v_measure']\n",
    "v_measure_results_df = pd.DataFrame((km_v_measure,agg_v_measure,em_v_measure) , columns =  ['xtrain_BOW' , 'xtrain_tfidf_unigram' , 'xtrain_tfidf_bigram', 'xtrain_tfidf_ngram'])\n",
    "v_measure_results_df['Evaluation'] = evaluation\n",
    "v_measure_results_df.set_index('Evaluation')\n",
    "first_col = v_measure_results_df.pop('Evaluation')\n",
    "v_measure_results_df.insert(0, 'Evaluation', first_col)\n",
    "display.display(v_measure_results_df)"
   ]
  },
  {
   "cell_type": "markdown",
   "id": "developmental-anaheim",
   "metadata": {
    "papermill": {
     "duration": 0.063877,
     "end_time": "2021-06-20T11:52:58.505448",
     "exception": false,
     "start_time": "2021-06-20T11:52:58.441571",
     "status": "completed"
    },
    "tags": []
   },
   "source": [
    "# Cohen's Kappa "
   ]
  },
  {
   "cell_type": "code",
   "execution_count": 20,
   "id": "classified-quarter",
   "metadata": {
    "execution": {
     "iopub.execute_input": "2021-06-20T11:52:58.639876Z",
     "iopub.status.busy": "2021-06-20T11:52:58.638976Z",
     "iopub.status.idle": "2021-06-20T11:52:58.644702Z",
     "shell.execute_reply": "2021-06-20T11:52:58.644180Z",
     "shell.execute_reply.started": "2021-06-20T11:49:59.356905Z"
    },
    "papermill": {
     "duration": 0.080421,
     "end_time": "2021-06-20T11:52:58.644840",
     "exception": false,
     "start_time": "2021-06-20T11:52:58.564419",
     "status": "completed"
    },
    "tags": []
   },
   "outputs": [
    {
     "data": {
      "text/html": [
       "<div>\n",
       "<style scoped>\n",
       "    .dataframe tbody tr th:only-of-type {\n",
       "        vertical-align: middle;\n",
       "    }\n",
       "\n",
       "    .dataframe tbody tr th {\n",
       "        vertical-align: top;\n",
       "    }\n",
       "\n",
       "    .dataframe thead th {\n",
       "        text-align: right;\n",
       "    }\n",
       "</style>\n",
       "<table border=\"1\" class=\"dataframe\">\n",
       "  <thead>\n",
       "    <tr style=\"text-align: right;\">\n",
       "      <th></th>\n",
       "      <th>Evaluation</th>\n",
       "      <th>xtrain_BOW</th>\n",
       "      <th>xtrain_tfidf_unigram</th>\n",
       "      <th>xtrain_tfidf_bigram</th>\n",
       "      <th>xtrain_tfidf_ngram</th>\n",
       "    </tr>\n",
       "  </thead>\n",
       "  <tbody>\n",
       "    <tr>\n",
       "      <th>0</th>\n",
       "      <td>k-means_kappa</td>\n",
       "      <td>0.02000</td>\n",
       "      <td>0.19875</td>\n",
       "      <td>0.03875</td>\n",
       "      <td>-0.16375</td>\n",
       "    </tr>\n",
       "    <tr>\n",
       "      <th>1</th>\n",
       "      <td>Hierarchical_kappa</td>\n",
       "      <td>0.00125</td>\n",
       "      <td>0.00375</td>\n",
       "      <td>-0.03250</td>\n",
       "      <td>-0.00375</td>\n",
       "    </tr>\n",
       "    <tr>\n",
       "      <th>2</th>\n",
       "      <td>EM_kappa</td>\n",
       "      <td>0.02000</td>\n",
       "      <td>0.20125</td>\n",
       "      <td>-0.00125</td>\n",
       "      <td>-0.16125</td>\n",
       "    </tr>\n",
       "  </tbody>\n",
       "</table>\n",
       "</div>"
      ],
      "text/plain": [
       "           Evaluation  xtrain_BOW  xtrain_tfidf_unigram  xtrain_tfidf_bigram  \\\n",
       "0       k-means_kappa     0.02000               0.19875              0.03875   \n",
       "1  Hierarchical_kappa     0.00125               0.00375             -0.03250   \n",
       "2            EM_kappa     0.02000               0.20125             -0.00125   \n",
       "\n",
       "   xtrain_tfidf_ngram  \n",
       "0            -0.16375  \n",
       "1            -0.00375  \n",
       "2            -0.16125  "
      ]
     },
     "metadata": {},
     "output_type": "display_data"
    }
   ],
   "source": [
    "evaluation =  ['k-means_kappa','Hierarchical_kappa','EM_kappa']\n",
    "kappa_results_df = pd.DataFrame((km_kappa,agg_kappa,em_kappa) , columns =  ['xtrain_BOW' , 'xtrain_tfidf_unigram' , 'xtrain_tfidf_bigram', 'xtrain_tfidf_ngram'])\n",
    "kappa_results_df['Evaluation'] = evaluation\n",
    "kappa_results_df.set_index('Evaluation')\n",
    "first_col = kappa_results_df.pop('Evaluation')\n",
    "kappa_results_df.insert(0, 'Evaluation', first_col)\n",
    "display.display(kappa_results_df)"
   ]
  },
  {
   "cell_type": "markdown",
   "id": "stuck-character",
   "metadata": {
    "papermill": {
     "duration": 0.057814,
     "end_time": "2021-06-20T11:52:58.766155",
     "exception": false,
     "start_time": "2021-06-20T11:52:58.708341",
     "status": "completed"
    },
    "tags": []
   },
   "source": [
    "# Normalized mutual information score (Coherence)"
   ]
  },
  {
   "cell_type": "code",
   "execution_count": 21,
   "id": "incomplete-consent",
   "metadata": {
    "execution": {
     "iopub.execute_input": "2021-06-20T11:52:58.889112Z",
     "iopub.status.busy": "2021-06-20T11:52:58.888427Z",
     "iopub.status.idle": "2021-06-20T11:52:58.901047Z",
     "shell.execute_reply": "2021-06-20T11:52:58.901875Z",
     "shell.execute_reply.started": "2021-06-20T11:49:59.374861Z"
    },
    "papermill": {
     "duration": 0.07825,
     "end_time": "2021-06-20T11:52:58.902071",
     "exception": false,
     "start_time": "2021-06-20T11:52:58.823821",
     "status": "completed"
    },
    "tags": []
   },
   "outputs": [
    {
     "data": {
      "text/html": [
       "<div>\n",
       "<style scoped>\n",
       "    .dataframe tbody tr th:only-of-type {\n",
       "        vertical-align: middle;\n",
       "    }\n",
       "\n",
       "    .dataframe tbody tr th {\n",
       "        vertical-align: top;\n",
       "    }\n",
       "\n",
       "    .dataframe thead th {\n",
       "        text-align: right;\n",
       "    }\n",
       "</style>\n",
       "<table border=\"1\" class=\"dataframe\">\n",
       "  <thead>\n",
       "    <tr style=\"text-align: right;\">\n",
       "      <th></th>\n",
       "      <th>Evaluation</th>\n",
       "      <th>xtrain_BOW</th>\n",
       "      <th>xtrain_tfidf_unigram</th>\n",
       "      <th>xtrain_tfidf_bigram</th>\n",
       "      <th>xtrain_tfidf_ngram</th>\n",
       "    </tr>\n",
       "  </thead>\n",
       "  <tbody>\n",
       "    <tr>\n",
       "      <th>0</th>\n",
       "      <td>k-means_coherence</td>\n",
       "      <td>0.564475</td>\n",
       "      <td>0.730180</td>\n",
       "      <td>0.419387</td>\n",
       "      <td>0.371727</td>\n",
       "    </tr>\n",
       "    <tr>\n",
       "      <th>1</th>\n",
       "      <td>Hierarchical_coherence</td>\n",
       "      <td>0.564475</td>\n",
       "      <td>0.730180</td>\n",
       "      <td>0.419387</td>\n",
       "      <td>0.371727</td>\n",
       "    </tr>\n",
       "    <tr>\n",
       "      <th>2</th>\n",
       "      <td>EM_coherence</td>\n",
       "      <td>0.570031</td>\n",
       "      <td>0.732866</td>\n",
       "      <td>0.391581</td>\n",
       "      <td>0.338895</td>\n",
       "    </tr>\n",
       "  </tbody>\n",
       "</table>\n",
       "</div>"
      ],
      "text/plain": [
       "               Evaluation  xtrain_BOW  xtrain_tfidf_unigram  \\\n",
       "0       k-means_coherence    0.564475              0.730180   \n",
       "1  Hierarchical_coherence    0.564475              0.730180   \n",
       "2            EM_coherence    0.570031              0.732866   \n",
       "\n",
       "   xtrain_tfidf_bigram  xtrain_tfidf_ngram  \n",
       "0             0.419387            0.371727  \n",
       "1             0.419387            0.371727  \n",
       "2             0.391581            0.338895  "
      ]
     },
     "metadata": {},
     "output_type": "display_data"
    }
   ],
   "source": [
    "evaluation =  ['k-means_coherence','Hierarchical_coherence','EM_coherence']\n",
    "coherence_results_df = pd.DataFrame((km_coherence,agg_coherence,em_coherence) , columns =  ['xtrain_BOW' , 'xtrain_tfidf_unigram' , 'xtrain_tfidf_bigram', 'xtrain_tfidf_ngram'])\n",
    "coherence_results_df['Evaluation'] = evaluation\n",
    "coherence_results_df.set_index('Evaluation')\n",
    "first_col = coherence_results_df.pop('Evaluation')\n",
    "coherence_results_df.insert(0, 'Evaluation', first_col)\n",
    "display.display(coherence_results_df)"
   ]
  },
  {
   "cell_type": "markdown",
   "id": "standard-familiar",
   "metadata": {
    "papermill": {
     "duration": 0.066741,
     "end_time": "2021-06-20T11:52:59.036410",
     "exception": false,
     "start_time": "2021-06-20T11:52:58.969669",
     "status": "completed"
    },
    "tags": []
   },
   "source": [
    "# Results Visualizations"
   ]
  },
  {
   "cell_type": "markdown",
   "id": "popular-bahrain",
   "metadata": {
    "papermill": {
     "duration": 0.067559,
     "end_time": "2021-06-20T11:52:59.170563",
     "exception": false,
     "start_time": "2021-06-20T11:52:59.103004",
     "status": "completed"
    },
    "tags": []
   },
   "source": [
    "In the below figure, we can see that k-means is the highest silhoutte coefficient value when word embeddings are applied as feature engineering. the x-axis is the algorithms we used, y-axis is the silhoutte coefficient, and colered graphs are the different applied feature engineering to the clustering models."
   ]
  },
  {
   "cell_type": "code",
   "execution_count": 22,
   "id": "pointed-commissioner",
   "metadata": {
    "execution": {
     "iopub.execute_input": "2021-06-20T11:52:59.302236Z",
     "iopub.status.busy": "2021-06-20T11:52:59.301627Z",
     "iopub.status.idle": "2021-06-20T11:52:59.842055Z",
     "shell.execute_reply": "2021-06-20T11:52:59.842542Z",
     "shell.execute_reply.started": "2021-06-20T11:49:59.393383Z"
    },
    "papermill": {
     "duration": 0.604584,
     "end_time": "2021-06-20T11:52:59.842739",
     "exception": false,
     "start_time": "2021-06-20T11:52:59.238155",
     "status": "completed"
    },
    "tags": []
   },
   "outputs": [
    {
     "data": {
      "image/png": "[encoded data removed]",
      "text/plain": [
       "<Figure size 720x576 with 1 Axes>"
      ]
     },
     "metadata": {
      "needs_background": "light"
     },
     "output_type": "display_data"
    }
   ],
   "source": [
    "models = ['k-means' , 'Hierarchical Clustering' , 'EM']\n",
    "# algorithm comparison\n",
    "fig = plt.figure(figsize=(10, 8))\n",
    "ax = fig.add_subplot(111)\n",
    "plt.plot(models , [km_silhouette[0], agg_silhouette[0] , em_silhouette[0]] , label = 'BOW_silhouette')\n",
    "plt.plot(models , [km_silhouette[1], agg_silhouette[1] , em_silhouette[1]] , label = 'Unigram_silhouette')\n",
    "plt.plot(models , [km_silhouette[2], agg_silhouette[2] , em_silhouette[2]] , label = 'Bigram_silhouette')\n",
    "plt.plot(models , [km_silhouette[3], agg_silhouette[3] , em_silhouette[3]] , label = 'Ngram_silhouette')\n",
    "plt.plot(models , [km_silhouette[4], agg_silhouette[4] , em_silhouette[4]] , label = 'Embedding_silhouette')\n",
    "plt.legend()\n",
    "plt.title('Silhouette coefficient of each model')\n",
    "plt.savefig('silhoutte.png' , dpi = 250)\n",
    "plt.show()"
   ]
  },
  {
   "cell_type": "markdown",
   "id": "peaceful-defense",
   "metadata": {
    "papermill": {
     "duration": 0.059902,
     "end_time": "2021-06-20T11:52:59.962995",
     "exception": false,
     "start_time": "2021-06-20T11:52:59.903093",
     "status": "completed"
    },
    "tags": []
   },
   "source": [
    "In the below figure, we can see that k-means is the highest Normalized mutual information score when unigram TF-IDF are applied as feature engineering. the x-axis is the algorithms we used, y-axis is the silhoutte coefficient, and colered graphs are the different applied feature engineering to the clustering models."
   ]
  },
  {
   "cell_type": "code",
   "execution_count": 23,
   "id": "occupied-cliff",
   "metadata": {
    "execution": {
     "iopub.execute_input": "2021-06-20T11:53:00.087090Z",
     "iopub.status.busy": "2021-06-20T11:53:00.086442Z",
     "iopub.status.idle": "2021-06-20T11:53:00.621215Z",
     "shell.execute_reply": "2021-06-20T11:53:00.621685Z",
     "shell.execute_reply.started": "2021-06-20T11:49:59.910671Z"
    },
    "papermill": {
     "duration": 0.598704,
     "end_time": "2021-06-20T11:53:00.621861",
     "exception": false,
     "start_time": "2021-06-20T11:53:00.023157",
     "status": "completed"
    },
    "tags": []
   },
   "outputs": [
    {
     "data": {
      "image/png": "[encoded data removed]",
      "text/plain": [
       "<Figure size 720x576 with 1 Axes>"
      ]
     },
     "metadata": {
      "needs_background": "light"
     },
     "output_type": "display_data"
    }
   ],
   "source": [
    "models = ['k-means' , 'Hierarchical Clustering' , 'EM']\n",
    "# algorithm comparison\n",
    "fig = plt.figure(figsize=(10, 8))\n",
    "ax = fig.add_subplot(111)\n",
    "plt.plot(models , [km_coherence[0], agg_coherence[0] , em_coherence[0]] , label = 'BOW_coherence')\n",
    "plt.plot(models , [km_coherence[1], agg_coherence[1] , em_coherence[1]] , label = 'Unigram_coherence')\n",
    "plt.plot(models , [km_coherence[2], agg_coherence[2] , em_coherence[2]] , label = 'Bigram_coherence')\n",
    "plt.plot(models , [km_coherence[3], agg_coherence[3] , em_coherence[3]] , label = 'Ngram_coherence')\n",
    "plt.legend()\n",
    "plt.title('The Coherence between clusters of each model')\n",
    "plt.savefig('coherence.png' , dpi = 250)\n",
    "plt.show()"
   ]
  },
  {
   "cell_type": "markdown",
   "id": "british-cradle",
   "metadata": {
    "papermill": {
     "duration": 0.059602,
     "end_time": "2021-06-20T11:53:00.742353",
     "exception": false,
     "start_time": "2021-06-20T11:53:00.682751",
     "status": "completed"
    },
    "tags": []
   },
   "source": [
    "In the below figure, we can see that k-means is the highest harmonic mean of homogenity and completeness score when unigram TF-IDF are applied as feature engineering. the x-axis is the algorithms we used, y-axis is the silhoutte coefficient, and colered graphs are the different applied feature engineering to the clustering models."
   ]
  },
  {
   "cell_type": "code",
   "execution_count": 24,
   "id": "insured-volume",
   "metadata": {
    "execution": {
     "iopub.execute_input": "2021-06-20T11:53:00.869719Z",
     "iopub.status.busy": "2021-06-20T11:53:00.869088Z",
     "iopub.status.idle": "2021-06-20T11:53:01.397266Z",
     "shell.execute_reply": "2021-06-20T11:53:01.397702Z",
     "shell.execute_reply.started": "2021-06-20T11:50:00.426449Z"
    },
    "papermill": {
     "duration": 0.592537,
     "end_time": "2021-06-20T11:53:01.397876",
     "exception": false,
     "start_time": "2021-06-20T11:53:00.805339",
     "status": "completed"
    },
    "tags": []
   },
   "outputs": [
    {
     "data": {
      "image/png": "[encoded data removed]",
      "text/plain": [
       "<Figure size 720x576 with 1 Axes>"
      ]
     },
     "metadata": {
      "needs_background": "light"
     },
     "output_type": "display_data"
    }
   ],
   "source": [
    "models = ['k-means' , 'Hierarchical Clustering' , 'EM']\n",
    "# algorithm comparison\n",
    "fig = plt.figure(figsize=(10, 8))\n",
    "ax = fig.add_subplot(111)\n",
    "plt.plot(models , [km_v_measure[0], agg_v_measure[0] , em_v_measure[0]] , label = 'BOW_kappa')\n",
    "plt.plot(models , [km_v_measure[1], agg_v_measure[1] , em_v_measure[1]] , label = 'Unigram_kappa')\n",
    "plt.plot(models , [km_v_measure[2], agg_v_measure[2] , em_v_measure[2]] , label = 'Bigram_kappa')\n",
    "plt.plot(models , [km_v_measure[3], agg_v_measure[3] , em_v_measure[3]] , label = 'Ngram_kappa')\n",
    "plt.legend()\n",
    "plt.title('V-measure of each model')\n",
    "plt.savefig('vMeasure.png' , dpi = 250)\n",
    "plt.show()"
   ]
  },
  {
   "cell_type": "markdown",
   "id": "constant-edmonton",
   "metadata": {
    "papermill": {
     "duration": 0.060918,
     "end_time": "2021-06-20T11:53:01.520767",
     "exception": false,
     "start_time": "2021-06-20T11:53:01.459849",
     "status": "completed"
    },
    "tags": []
   },
   "source": [
    "In the below figure, we can see that k-means is the highest Cohen's kappa score when unigram TF-IDF are applied as feature engineering. the x-axis is the algorithms we used, y-axis is the silhoutte coefficient, and colered graphs are the different applied feature engineering to the clustering models."
   ]
  },
  {
   "cell_type": "code",
   "execution_count": 25,
   "id": "particular-jewel",
   "metadata": {
    "execution": {
     "iopub.execute_input": "2021-06-20T11:53:01.648072Z",
     "iopub.status.busy": "2021-06-20T11:53:01.647462Z",
     "iopub.status.idle": "2021-06-20T11:53:02.241802Z",
     "shell.execute_reply": "2021-06-20T11:53:02.241240Z",
     "shell.execute_reply.started": "2021-06-20T11:50:00.941004Z"
    },
    "papermill": {
     "duration": 0.659145,
     "end_time": "2021-06-20T11:53:02.241944",
     "exception": false,
     "start_time": "2021-06-20T11:53:01.582799",
     "status": "completed"
    },
    "tags": []
   },
   "outputs": [
    {
     "data": {
      "image/png": "[encoded data removed]",
      "text/plain": [
       "<Figure size 720x576 with 1 Axes>"
      ]
     },
     "metadata": {
      "needs_background": "light"
     },
     "output_type": "display_data"
    }
   ],
   "source": [
    "models = ['k-means' , 'Hierarchical Clustering' , 'EM']\n",
    "# algorithm comparison\n",
    "fig = plt.figure(figsize=(10, 8))\n",
    "ax = fig.add_subplot(111)\n",
    "plt.plot(models , [km_kappa[0], agg_kappa[0] , em_kappa[0]] , label = 'BOW_kappa')\n",
    "plt.plot(models , [km_kappa[1], agg_kappa[1] , em_kappa[1]] , label = 'Unigram_kappa')\n",
    "plt.plot(models , [km_kappa[2], agg_kappa[2] , em_kappa[2]] , label = 'Bigram_kappa')\n",
    "plt.plot(models , [km_kappa[3], agg_kappa[3] , em_kappa[3]] , label = 'Ngram_kappa')\n",
    "plt.legend()\n",
    "plt.title('Kappa Score of each model')\n",
    "plt.savefig('kappa.png' , dpi = 250)\n",
    "plt.show()"
   ]
  },
  {
   "cell_type": "markdown",
   "id": "artistic-dressing",
   "metadata": {
    "papermill": {
     "duration": 0.063914,
     "end_time": "2021-06-20T11:53:02.369730",
     "exception": false,
     "start_time": "2021-06-20T11:53:02.305816",
     "status": "completed"
    },
    "tags": []
   },
   "source": [
    "# Error Analysis"
   ]
  },
  {
   "cell_type": "markdown",
   "id": "liberal-capacity",
   "metadata": {
    "papermill": {
     "duration": 0.062779,
     "end_time": "2021-06-20T11:53:02.495871",
     "exception": false,
     "start_time": "2021-06-20T11:53:02.433092",
     "status": "completed"
    },
    "tags": []
   },
   "source": [
    "# PCA"
   ]
  },
  {
   "cell_type": "markdown",
   "id": "spatial-configuration",
   "metadata": {
    "papermill": {
     "duration": 0.063311,
     "end_time": "2021-06-20T11:53:02.623020",
     "exception": false,
     "start_time": "2021-06-20T11:53:02.559709",
     "status": "completed"
    },
    "tags": []
   },
   "source": [
    "The figure describes the application of principal component analysis(PCA) to the features of the champion model (unigram kmeans) to visualize the clusters and analyze the evaluation metrics's results. we find that there is an interpolation between clusters therfore the silhoutte coefficent is around zero. In addition, there are coherence between clusters therefore the NMI value is high and equals 76%."
   ]
  },
  {
   "cell_type": "code",
   "execution_count": 26,
   "id": "ultimate-doctor",
   "metadata": {
    "execution": {
     "iopub.execute_input": "2021-06-20T11:53:02.759153Z",
     "iopub.status.busy": "2021-06-20T11:53:02.758138Z",
     "iopub.status.idle": "2021-06-20T11:53:04.199002Z",
     "shell.execute_reply": "2021-06-20T11:53:04.199451Z",
     "shell.execute_reply.started": "2021-06-20T11:50:01.496401Z"
    },
    "papermill": {
     "duration": 1.513182,
     "end_time": "2021-06-20T11:53:04.199628",
     "exception": false,
     "start_time": "2021-06-20T11:53:02.686446",
     "status": "completed"
    },
    "tags": []
   },
   "outputs": [
    {
     "data": {
      "image/png": "[encoded data removed]",
      "text/plain": [
       "<Figure size 720x576 with 1 Axes>"
      ]
     },
     "metadata": {
      "needs_background": "light"
     },
     "output_type": "display_data"
    }
   ],
   "source": [
    "cls = KMeans(n_clusters=true_k, init='k-means++', max_iter=300,n_init = 1,random_state=42,verbose=0)\n",
    "cls.fit(featured_x_train[1])\n",
    "# reduce the features to 2D\n",
    "pca = PCA(n_components=2, random_state=42)\n",
    "reduced_features = pca.fit_transform(featured_x_train[1].toarray())\n",
    "\n",
    "# reduce the cluster centers to 2D\n",
    "reduced_cluster_centers = pca.transform(cls.cluster_centers_)\n",
    "plt.figure(figsize = (10,8))\n",
    "plt.title('Unigram K-means Clustering')\n",
    "plt.scatter(reduced_features[:,0], reduced_features[:,1], c=cls.predict(featured_x_train[1]))\n",
    "plt.scatter(reduced_cluster_centers[:, 0], reduced_cluster_centers[:,1], marker='x', s=150, c='b')\n",
    "plt.savefig('cluster_results.png' , dpi = 250)"
   ]
  },
  {
   "cell_type": "markdown",
   "id": "likely-circular",
   "metadata": {
    "papermill": {
     "duration": 0.06711,
     "end_time": "2021-06-20T11:53:04.332829",
     "exception": false,
     "start_time": "2021-06-20T11:53:04.265719",
     "status": "completed"
    },
    "tags": []
   },
   "source": [
    "# Unigram/ Bigram Collocation"
   ]
  },
  {
   "cell_type": "code",
   "execution_count": 27,
   "id": "clean-japanese",
   "metadata": {
    "execution": {
     "iopub.execute_input": "2021-06-20T11:53:04.504101Z",
     "iopub.status.busy": "2021-06-20T11:53:04.488701Z",
     "iopub.status.idle": "2021-06-20T11:53:05.030067Z",
     "shell.execute_reply": "2021-06-20T11:53:05.030656Z",
     "shell.execute_reply.started": "2021-06-20T11:50:02.766930Z"
    },
    "papermill": {
     "duration": 0.631091,
     "end_time": "2021-06-20T11:53:05.030855",
     "exception": false,
     "start_time": "2021-06-20T11:53:04.399764",
     "status": "completed"
    },
    "tags": []
   },
   "outputs": [
    {
     "data": {
      "application/vnd.jupyter.widget-view+json": {
       "model_id": "47e8d179439f414aa21ebdcf8883e4ca",
       "version_major": 2,
       "version_minor": 0
      },
      "text/plain": [
       "HBox(children=(Output(), Output()))"
      ]
     },
     "metadata": {},
     "output_type": "display_data"
    }
   ],
   "source": [
    "corpus = data_df['tokenized'][0]\n",
    "bigrams = nltk.collocations.BigramAssocMeasures()\n",
    "trigrams = nltk.collocations.TrigramAssocMeasures()\n",
    "bigramFinder = nltk.collocations.BigramCollocationFinder.from_words(tokens)\n",
    "trigramFinder = nltk.collocations.TrigramCollocationFinder.from_words(tokens)\n",
    "bigramPMITable = pd.DataFrame(list(bigramFinder.score_ngrams(bigrams.pmi)), columns=['bigram','PMI']).sort_values(by='PMI', ascending=False)\n",
    "trigramPMITable = pd.DataFrame(list(trigramFinder.score_ngrams(trigrams.pmi)), columns=['trigram','PMI']).sort_values(by='PMI', ascending=False)\n",
    "\n",
    "# create output widgets\n",
    "widget1 = widgets.Output()\n",
    "widget2 = widgets.Output()\n",
    "\n",
    "# render in output widgets\n",
    "with widget1:\n",
    "    display.display(bigramPMITable)\n",
    "with widget2:\n",
    "    display.display(trigramPMITable)\n",
    "\n",
    "# create HBox\n",
    "hbox = widgets.HBox([widget1, widget2])\n",
    "\n",
    "# render hbox\n",
    "display.display(hbox)"
   ]
  },
  {
   "cell_type": "markdown",
   "id": "radical-fireplace",
   "metadata": {
    "papermill": {
     "duration": 0.065375,
     "end_time": "2021-06-20T11:53:05.163873",
     "exception": false,
     "start_time": "2021-06-20T11:53:05.098498",
     "status": "completed"
    },
    "tags": []
   },
   "source": [
    "# Conclusion"
   ]
  },
  {
   "cell_type": "markdown",
   "id": "crazy-modification",
   "metadata": {
    "papermill": {
     "duration": 0.066557,
     "end_time": "2021-06-20T11:53:05.296596",
     "exception": false,
     "start_time": "2021-06-20T11:53:05.230039",
     "status": "completed"
    },
    "tags": []
   },
   "source": [
    "Our champion model is k-means when word embeddings is applied as a feature engineering. in addition, there are interpolation between the clusters and the coherence is high as well. furthermore, Unigram TF-idf performs well within our data. For future work, we consider more feature engineering as LDA. in addition, selecting more appriopriate books that are differentiable. "
   ]
  },
  {
   "cell_type": "markdown",
   "id": "short-median",
   "metadata": {
    "papermill": {
     "duration": 0.066141,
     "end_time": "2021-06-20T11:53:05.429871",
     "exception": false,
     "start_time": "2021-06-20T11:53:05.363730",
     "status": "completed"
    },
    "tags": []
   },
   "source": [
    "# References\n",
    "\n",
    "1. https://khuloodnasher.medium.com/text-clustering f465ab60bc9a#:~:text=What%20is%20Text%20Clustering%3F%20Text%20clustering%20is%20a,on%20grouping%20the%20texts%20according%20to%20their%20similarity.\n",
    "\n",
    "2. https://scikit-learn.org/stable/modules/clustering.html#clustering-performance-evaluation\n",
    "\n",
    "3. https://www.geeksforgeeks.org/word-embeddings-in-nlp/\n",
    "\n",
    "4. https://scikit-learn.org/stable/modules/clustering.html\n",
    "\n",
    "5. https://sanjayasubedi.com.np/nlp/nlp-intro/\n",
    "\n",
    "6. https://sanjayasubedi.com.np/nlp/nlp-feature-extraction/"
   ]
  }
 ],
 "metadata": {
  "kernelspec": {
   "display_name": "Python 3",
   "language": "python",
   "name": "python3"
  },
  "language_info": {
   "codemirror_mode": {
    "name": "ipython",
    "version": 3
   },
   "file_extension": ".py",
   "mimetype": "text/x-python",
   "name": "python",
   "nbconvert_exporter": "python",
   "pygments_lexer": "ipython3",
   "version": "3.7.10"
  },
  "papermill": {
   "default_parameters": {},
   "duration": 94.925252,
   "end_time": "2021-06-20T11:53:07.373689",
   "environment_variables": {},
   "exception": null,
   "input_path": "__notebook__.ipynb",
   "output_path": "__notebook__.ipynb",
   "parameters": {},
   "start_time": "2021-06-20T11:51:32.448437",
   "version": "2.3.3"
  },
  "widgets": {
   "application/vnd.jupyter.widget-state+json": {
    "state": {
     "074706b0c6804b2284c23f3be388a086": {
      "model_module": "@jupyter-widgets/base",
      "model_module_version": "1.2.0",
      "model_name": "LayoutModel",
      "state": {
       "_model_module": "@jupyter-widgets/base",
       "_model_module_version": "1.2.0",
       "_model_name": "LayoutModel",
       "_view_count": null,
       "_view_module": "@jupyter-widgets/base",
       "_view_module_version": "1.2.0",
       "_view_name": "LayoutView",
       "align_content": null,
       "align_items": null,
       "align_self": null,
       "border": null,
       "bottom": null,
       "display": null,
       "flex": null,
       "flex_flow": null,
       "grid_area": null,
       "grid_auto_columns": null,
       "grid_auto_flow": null,
       "grid_auto_rows": null,
       "grid_column": null,
       "grid_gap": null,
       "grid_row": null,
       "grid_template_areas": null,
       "grid_template_columns": null,
       "grid_template_rows": null,
       "height": null,
       "justify_content": null,
       "justify_items": null,
       "left": null,
       "margin": null,
       "max_height": null,
       "max_width": null,
       "min_height": null,
       "min_width": null,
       "object_fit": null,
       "object_position": null,
       "order": null,
       "overflow": null,
       "overflow_x": null,
       "overflow_y": null,
       "padding": null,
       "right": null,
       "top": null,
       "visibility": null,
       "width": null
      }
     },
     "169a6b78ea224dcea6d93556c0350340": {
      "model_module": "@jupyter-widgets/base",
      "model_module_version": "1.2.0",
      "model_name": "LayoutModel",
      "state": {
       "_model_module": "@jupyter-widgets/base",
       "_model_module_version": "1.2.0",
       "_model_name": "LayoutModel",
       "_view_count": null,
       "_view_module": "@jupyter-widgets/base",
       "_view_module_version": "1.2.0",
       "_view_name": "LayoutView",
       "align_content": null,
       "align_items": null,
       "align_self": null,
       "border": null,
       "bottom": null,
       "display": null,
       "flex": null,
       "flex_flow": null,
       "grid_area": null,
       "grid_auto_columns": null,
       "grid_auto_flow": null,
       "grid_auto_rows": null,
       "grid_column": null,
       "grid_gap": null,
       "grid_row": null,
       "grid_template_areas": null,
       "grid_template_columns": null,
       "grid_template_rows": null,
       "height": null,
       "justify_content": null,
       "justify_items": null,
       "left": null,
       "margin": null,
       "max_height": null,
       "max_width": null,
       "min_height": null,
       "min_width": null,
       "object_fit": null,
       "object_position": null,
       "order": null,
       "overflow": null,
       "overflow_x": null,
       "overflow_y": null,
       "padding": null,
       "right": null,
       "top": null,
       "visibility": null,
       "width": null
      }
     },
     "192e84d8947a4154b4411b296d46f387": {
      "model_module": "@jupyter-widgets/controls",
      "model_module_version": "1.5.0",
      "model_name": "HBoxModel",
      "state": {
       "_dom_classes": [],
       "_model_module": "@jupyter-widgets/controls",
       "_model_module_version": "1.5.0",
       "_model_name": "HBoxModel",
       "_view_count": null,
       "_view_module": "@jupyter-widgets/controls",
       "_view_module_version": "1.5.0",
       "_view_name": "HBoxView",
       "box_style": "",
       "children": [
        "IPY_MODEL_eee2c458d65c4c08a43aac16e49f01c0",
        "IPY_MODEL_37bcc9cd790d4247b43ab166ebed1f89"
       ],
       "layout": "IPY_MODEL_f8f753d81d3549d7a0b8eac8dcb68c08"
      }
     },
     "1b90fd7686ec42dabfab860e089fea93": {
      "model_module": "@jupyter-widgets/output",
      "model_module_version": "1.0.0",
      "model_name": "OutputModel",
      "state": {
       "_dom_classes": [],
       "_model_module": "@jupyter-widgets/output",
       "_model_module_version": "1.0.0",
       "_model_name": "OutputModel",
       "_view_count": null,
       "_view_module": "@jupyter-widgets/output",
       "_view_module_version": "1.0.0",
       "_view_name": "OutputView",
       "layout": "IPY_MODEL_65f3d5d23ec34ebd81711505b45f44d7",
       "msg_id": "",
       "outputs": [
        {
         "data": {
          "text/html": "<div>\n<style scoped>\n    .dataframe tbody tr th:only-of-type {\n        vertical-align: middle;\n    }\n\n    .dataframe tbody tr th {\n        vertical-align: top;\n    }\n\n    .dataframe thead th {\n        text-align: right;\n    }\n</style>\n<table border=\"1\" class=\"dataframe\">\n  <thead>\n    <tr style=\"text-align: right;\">\n      <th></th>\n      <th>bigram</th>\n      <th>PMI</th>\n    </tr>\n  </thead>\n  <tbody>\n    <tr>\n      <th>0</th>\n      <td>(abreak, thefinished)</td>\n      <td>14.858370</td>\n    </tr>\n    <tr>\n      <th>200</th>\n      <td>(questionable, boon)</td>\n      <td>14.858370</td>\n    </tr>\n    <tr>\n      <th>207</th>\n      <td>(reel, emergency)</td>\n      <td>14.858370</td>\n    </tr>\n    <tr>\n      <th>206</th>\n      <td>(red, saloon)</td>\n      <td>14.858370</td>\n    </tr>\n    <tr>\n      <th>205</th>\n      <td>(recommended, hurry)</td>\n      <td>14.858370</td>\n    </tr>\n    <tr>\n      <th>...</th>\n      <td>...</td>\n      <td>...</td>\n    </tr>\n    <tr>\n      <th>16915</th>\n      <td>(would, fleda)</td>\n      <td>-1.858878</td>\n    </tr>\n    <tr>\n      <th>16916</th>\n      <td>(fleda, owen)</td>\n      <td>-2.599011</td>\n    </tr>\n    <tr>\n      <th>16917</th>\n      <td>(owen, fleda)</td>\n      <td>-2.599011</td>\n    </tr>\n    <tr>\n      <th>16918</th>\n      <td>(mr, mr)</td>\n      <td>-3.135989</td>\n    </tr>\n    <tr>\n      <th>16919</th>\n      <td>(fleda, mr)</td>\n      <td>-3.348263</td>\n    </tr>\n  </tbody>\n</table>\n<p>16920 rows × 2 columns</p>\n</div>",
          "text/plain": "                      bigram        PMI\n0      (abreak, thefinished)  14.858370\n200     (questionable, boon)  14.858370\n207        (reel, emergency)  14.858370\n206            (red, saloon)  14.858370\n205     (recommended, hurry)  14.858370\n...                      ...        ...\n16915         (would, fleda)  -1.858878\n16916          (fleda, owen)  -2.599011\n16917          (owen, fleda)  -2.599011\n16918               (mr, mr)  -3.135989\n16919            (fleda, mr)  -3.348263\n\n[16920 rows x 2 columns]"
         },
         "metadata": {},
         "output_type": "display_data"
        }
       ]
      }
     },
     "2348e91764e943dbafdfb88a8a48e541": {
      "model_module": "@jupyter-widgets/output",
      "model_module_version": "1.0.0",
      "model_name": "OutputModel",
      "state": {
       "_dom_classes": [],
       "_model_module": "@jupyter-widgets/output",
       "_model_module_version": "1.0.0",
       "_model_name": "OutputModel",
       "_view_count": null,
       "_view_module": "@jupyter-widgets/output",
       "_view_module_version": "1.0.0",
       "_view_name": "OutputView",
       "layout": "IPY_MODEL_7584380b099442619d9dd79d9dc91bfe",
       "msg_id": "",
       "outputs": [
        {
         "data": {
          "text/html": "<div>\n<style scoped>\n    .dataframe tbody tr th:only-of-type {\n        vertical-align: middle;\n    }\n\n    .dataframe tbody tr th {\n        vertical-align: top;\n    }\n\n    .dataframe thead th {\n        text-align: right;\n    }\n</style>\n<table border=\"1\" class=\"dataframe\">\n  <thead>\n    <tr style=\"text-align: right;\">\n      <th></th>\n      <th>trigram</th>\n      <th>PMI</th>\n    </tr>\n  </thead>\n  <tbody>\n    <tr>\n      <th>0</th>\n      <td>(accuse, insulting, express)</td>\n      <td>29.699983</td>\n    </tr>\n    <tr>\n      <th>24</th>\n      <td>(inawaytosandwich, mebetween, notfancying)</td>\n      <td>29.699983</td>\n    </tr>\n    <tr>\n      <th>26</th>\n      <td>(itoldhimso, noddingbacktothebuilding, issued)</td>\n      <td>29.699983</td>\n    </tr>\n    <tr>\n      <th>27</th>\n      <td>(lisa, bennett, david)</td>\n      <td>29.699983</td>\n    </tr>\n    <tr>\n      <th>28</th>\n      <td>(melan, dr, fairbanks)</td>\n      <td>29.699983</td>\n    </tr>\n    <tr>\n      <th>...</th>\n      <td>...</td>\n      <td>...</td>\n    </tr>\n    <tr>\n      <th>16764</th>\n      <td>(mr, blake, would)</td>\n      <td>6.450089</td>\n    </tr>\n    <tr>\n      <th>16765</th>\n      <td>(way, mr, blake)</td>\n      <td>6.414170</td>\n    </tr>\n    <tr>\n      <th>16766</th>\n      <td>(time, mr, blake)</td>\n      <td>6.155083</td>\n    </tr>\n    <tr>\n      <th>16767</th>\n      <td>(mr, blake, hand)</td>\n      <td>6.032024</td>\n    </tr>\n    <tr>\n      <th>16768</th>\n      <td>(mr, mr, blake)</td>\n      <td>4.690271</td>\n    </tr>\n  </tbody>\n</table>\n<p>16769 rows × 2 columns</p>\n</div>",
          "text/plain": "                                              trigram        PMI\n0                        (accuse, insulting, express)  29.699983\n24         (inawaytosandwich, mebetween, notfancying)  29.699983\n26     (itoldhimso, noddingbacktothebuilding, issued)  29.699983\n27                             (lisa, bennett, david)  29.699983\n28                             (melan, dr, fairbanks)  29.699983\n...                                               ...        ...\n16764                              (mr, blake, would)   6.450089\n16765                                (way, mr, blake)   6.414170\n16766                               (time, mr, blake)   6.155083\n16767                               (mr, blake, hand)   6.032024\n16768                                 (mr, mr, blake)   4.690271\n\n[16769 rows x 2 columns]"
         },
         "metadata": {},
         "output_type": "display_data"
        }
       ]
      }
     },
     "23b7e238eae2424881808779efde1317": {
      "model_module": "@jupyter-widgets/controls",
      "model_module_version": "1.5.0",
      "model_name": "HBoxModel",
      "state": {
       "_dom_classes": [],
       "_model_module": "@jupyter-widgets/controls",
       "_model_module_version": "1.5.0",
       "_model_name": "HBoxModel",
       "_view_count": null,
       "_view_module": "@jupyter-widgets/controls",
       "_view_module_version": "1.5.0",
       "_view_name": "HBoxView",
       "box_style": "",
       "children": [
        "IPY_MODEL_cfdfb8d2cdbd4b338cda19155f54fd7f",
        "IPY_MODEL_e8af652c225e41ff909db9c9853d925b"
       ],
       "layout": "IPY_MODEL_afaefbb886af43de84062b0525b2a520"
      }
     },
     "32b0fe9554ba4eec9be3ef0b3f029954": {
      "model_module": "@jupyter-widgets/base",
      "model_module_version": "1.2.0",
      "model_name": "LayoutModel",
      "state": {
       "_model_module": "@jupyter-widgets/base",
       "_model_module_version": "1.2.0",
       "_model_name": "LayoutModel",
       "_view_count": null,
       "_view_module": "@jupyter-widgets/base",
       "_view_module_version": "1.2.0",
       "_view_name": "LayoutView",
       "align_content": null,
       "align_items": null,
       "align_self": null,
       "border": null,
       "bottom": null,
       "display": null,
       "flex": null,
       "flex_flow": null,
       "grid_area": null,
       "grid_auto_columns": null,
       "grid_auto_flow": null,
       "grid_auto_rows": null,
       "grid_column": null,
       "grid_gap": null,
       "grid_row": null,
       "grid_template_areas": null,
       "grid_template_columns": null,
       "grid_template_rows": null,
       "height": null,
       "justify_content": null,
       "justify_items": null,
       "left": null,
       "margin": null,
       "max_height": null,
       "max_width": null,
       "min_height": null,
       "min_width": null,
       "object_fit": null,
       "object_position": null,
       "order": null,
       "overflow": null,
       "overflow_x": null,
       "overflow_y": null,
       "padding": null,
       "right": null,
       "top": null,
       "visibility": null,
       "width": null
      }
     },
     "37bcc9cd790d4247b43ab166ebed1f89": {
      "model_module": "@jupyter-widgets/output",
      "model_module_version": "1.0.0",
      "model_name": "OutputModel",
      "state": {
       "_dom_classes": [],
       "_model_module": "@jupyter-widgets/output",
       "_model_module_version": "1.0.0",
       "_model_name": "OutputModel",
       "_view_count": null,
       "_view_module": "@jupyter-widgets/output",
       "_view_module_version": "1.0.0",
       "_view_name": "OutputView",
       "layout": "IPY_MODEL_dc88efe36bc343b782e88c65b32119a9",
       "msg_id": "",
       "outputs": [
        {
         "data": {
          "text/html": "<div>\n<style scoped>\n    .dataframe tbody tr th:only-of-type {\n        vertical-align: middle;\n    }\n\n    .dataframe tbody tr th {\n        vertical-align: top;\n    }\n\n    .dataframe thead th {\n        text-align: right;\n    }\n</style>\n<table border=\"1\" class=\"dataframe\">\n  <thead>\n    <tr style=\"text-align: right;\">\n      <th></th>\n      <th>trigram</th>\n      <th>PMI</th>\n    </tr>\n  </thead>\n  <tbody>\n    <tr>\n      <th>0</th>\n      <td>(andforceherintobasil, sarms, hewassorrytolose...</td>\n      <td>29.683718</td>\n    </tr>\n    <tr>\n      <th>56</th>\n      <td>(literature, painting, poetry)</td>\n      <td>29.683718</td>\n    </tr>\n    <tr>\n      <th>82</th>\n      <td>(shewasabouteighty, sixyearsofage, butlookedev...</td>\n      <td>29.683718</td>\n    </tr>\n    <tr>\n      <th>81</th>\n      <td>(shefeltcertain, asmerelyapretty, commonplaceg...</td>\n      <td>29.683718</td>\n    </tr>\n    <tr>\n      <th>80</th>\n      <td>(seeingthatsheevidentlydesiredtohaveasecretint...</td>\n      <td>29.683718</td>\n    </tr>\n    <tr>\n      <th>...</th>\n      <td>...</td>\n      <td>...</td>\n    </tr>\n    <tr>\n      <th>20447</th>\n      <td>(mara, akira, theodore)</td>\n      <td>6.124796</td>\n    </tr>\n    <tr>\n      <th>20448</th>\n      <td>(theodore, colpster, patricia)</td>\n      <td>5.700159</td>\n    </tr>\n    <tr>\n      <th>20449</th>\n      <td>(theodore, basil, mara)</td>\n      <td>5.697375</td>\n    </tr>\n    <tr>\n      <th>20450</th>\n      <td>(mara, mara, mara)</td>\n      <td>5.517871</td>\n    </tr>\n    <tr>\n      <th>20451</th>\n      <td>(basil, patricia, theodore)</td>\n      <td>5.213499</td>\n    </tr>\n  </tbody>\n</table>\n<p>20452 rows × 2 columns</p>\n</div>",
          "text/plain": "                                                 trigram        PMI\n0      (andforceherintobasil, sarms, hewassorrytolose...  29.683718\n56                        (literature, painting, poetry)  29.683718\n82     (shewasabouteighty, sixyearsofage, butlookedev...  29.683718\n81     (shefeltcertain, asmerelyapretty, commonplaceg...  29.683718\n80     (seeingthatsheevidentlydesiredtohaveasecretint...  29.683718\n...                                                  ...        ...\n20447                            (mara, akira, theodore)   6.124796\n20448                     (theodore, colpster, patricia)   5.700159\n20449                            (theodore, basil, mara)   5.697375\n20450                                 (mara, mara, mara)   5.517871\n20451                        (basil, patricia, theodore)   5.213499\n\n[20452 rows x 2 columns]"
         },
         "metadata": {},
         "output_type": "display_data"
        }
       ]
      }
     },
     "3b18aead8d5f4d9db69ae2f557b07833": {
      "model_module": "@jupyter-widgets/controls",
      "model_module_version": "1.5.0",
      "model_name": "HBoxModel",
      "state": {
       "_dom_classes": [],
       "_model_module": "@jupyter-widgets/controls",
       "_model_module_version": "1.5.0",
       "_model_name": "HBoxModel",
       "_view_count": null,
       "_view_module": "@jupyter-widgets/controls",
       "_view_module_version": "1.5.0",
       "_view_name": "HBoxView",
       "box_style": "",
       "children": [
        "IPY_MODEL_ec4e5e7759a34bce8504e9f21d487b32",
        "IPY_MODEL_8e96ad2193bc46369bf67eb7ca56c633"
       ],
       "layout": "IPY_MODEL_539b38ee80e74608a8e340ae1fc6b194"
      }
     },
     "3bca6602650247149e514818f742419b": {
      "model_module": "@jupyter-widgets/base",
      "model_module_version": "1.2.0",
      "model_name": "LayoutModel",
      "state": {
       "_model_module": "@jupyter-widgets/base",
       "_model_module_version": "1.2.0",
       "_model_name": "LayoutModel",
       "_view_count": null,
       "_view_module": "@jupyter-widgets/base",
       "_view_module_version": "1.2.0",
       "_view_name": "LayoutView",
       "align_content": null,
       "align_items": null,
       "align_self": null,
       "border": null,
       "bottom": null,
       "display": null,
       "flex": null,
       "flex_flow": null,
       "grid_area": null,
       "grid_auto_columns": null,
       "grid_auto_flow": null,
       "grid_auto_rows": null,
       "grid_column": null,
       "grid_gap": null,
       "grid_row": null,
       "grid_template_areas": null,
       "grid_template_columns": null,
       "grid_template_rows": null,
       "height": null,
       "justify_content": null,
       "justify_items": null,
       "left": null,
       "margin": null,
       "max_height": null,
       "max_width": null,
       "min_height": null,
       "min_width": null,
       "object_fit": null,
       "object_position": null,
       "order": null,
       "overflow": null,
       "overflow_x": null,
       "overflow_y": null,
       "padding": null,
       "right": null,
       "top": null,
       "visibility": null,
       "width": null
      }
     },
     "3d513200a97a4f82a38afa3e92caebdd": {
      "model_module": "@jupyter-widgets/output",
      "model_module_version": "1.0.0",
      "model_name": "OutputModel",
      "state": {
       "_dom_classes": [],
       "_model_module": "@jupyter-widgets/output",
       "_model_module_version": "1.0.0",
       "_model_name": "OutputModel",
       "_view_count": null,
       "_view_module": "@jupyter-widgets/output",
       "_view_module_version": "1.0.0",
       "_view_name": "OutputView",
       "layout": "IPY_MODEL_595fbd48651244519bb5b18c4003867c",
       "msg_id": "",
       "outputs": [
        {
         "data": {
          "text/html": "<div>\n<style scoped>\n    .dataframe tbody tr th:only-of-type {\n        vertical-align: middle;\n    }\n\n    .dataframe tbody tr th {\n        vertical-align: top;\n    }\n\n    .dataframe thead th {\n        text-align: right;\n    }\n</style>\n<table border=\"1\" class=\"dataframe\">\n  <thead>\n    <tr style=\"text-align: right;\">\n      <th></th>\n      <th>bigram</th>\n      <th>PMI</th>\n    </tr>\n  </thead>\n  <tbody>\n    <tr>\n      <th>0</th>\n      <td>(absent, minded)</td>\n      <td>14.849991</td>\n    </tr>\n    <tr>\n      <th>141</th>\n      <td>(powerfully, framed)</td>\n      <td>14.849991</td>\n    </tr>\n    <tr>\n      <th>131</th>\n      <td>(overthemostunevencountryievertraversed, healw...</td>\n      <td>14.849991</td>\n    </tr>\n    <tr>\n      <th>132</th>\n      <td>(owner, agent)</td>\n      <td>14.849991</td>\n    </tr>\n    <tr>\n      <th>133</th>\n      <td>(participate, social)</td>\n      <td>14.849991</td>\n    </tr>\n    <tr>\n      <th>...</th>\n      <td>...</td>\n      <td>...</td>\n    </tr>\n    <tr>\n      <th>15488</th>\n      <td>(like, mr)</td>\n      <td>-0.650135</td>\n    </tr>\n    <tr>\n      <th>15489</th>\n      <td>(mr, woman)</td>\n      <td>-0.675009</td>\n    </tr>\n    <tr>\n      <th>15490</th>\n      <td>(hand, mr)</td>\n      <td>-1.117528</td>\n    </tr>\n    <tr>\n      <th>15491</th>\n      <td>(mr, girl)</td>\n      <td>-1.366887</td>\n    </tr>\n    <tr>\n      <th>15492</th>\n      <td>(mr, mr)</td>\n      <td>-2.459281</td>\n    </tr>\n  </tbody>\n</table>\n<p>15493 rows × 2 columns</p>\n</div>",
          "text/plain": "                                                  bigram        PMI\n0                                       (absent, minded)  14.849991\n141                                 (powerfully, framed)  14.849991\n131    (overthemostunevencountryievertraversed, healw...  14.849991\n132                                       (owner, agent)  14.849991\n133                                (participate, social)  14.849991\n...                                                  ...        ...\n15488                                         (like, mr)  -0.650135\n15489                                        (mr, woman)  -0.675009\n15490                                         (hand, mr)  -1.117528\n15491                                         (mr, girl)  -1.366887\n15492                                           (mr, mr)  -2.459281\n\n[15493 rows x 2 columns]"
         },
         "metadata": {},
         "output_type": "display_data"
        }
       ]
      }
     },
     "437f21c7b2934aa9a2f74039dfd2e8ad": {
      "model_module": "@jupyter-widgets/base",
      "model_module_version": "1.2.0",
      "model_name": "LayoutModel",
      "state": {
       "_model_module": "@jupyter-widgets/base",
       "_model_module_version": "1.2.0",
       "_model_name": "LayoutModel",
       "_view_count": null,
       "_view_module": "@jupyter-widgets/base",
       "_view_module_version": "1.2.0",
       "_view_name": "LayoutView",
       "align_content": null,
       "align_items": null,
       "align_self": null,
       "border": null,
       "bottom": null,
       "display": null,
       "flex": null,
       "flex_flow": null,
       "grid_area": null,
       "grid_auto_columns": null,
       "grid_auto_flow": null,
       "grid_auto_rows": null,
       "grid_column": null,
       "grid_gap": null,
       "grid_row": null,
       "grid_template_areas": null,
       "grid_template_columns": null,
       "grid_template_rows": null,
       "height": null,
       "justify_content": null,
       "justify_items": null,
       "left": null,
       "margin": null,
       "max_height": null,
       "max_width": null,
       "min_height": null,
       "min_width": null,
       "object_fit": null,
       "object_position": null,
       "order": null,
       "overflow": null,
       "overflow_x": null,
       "overflow_y": null,
       "padding": null,
       "right": null,
       "top": null,
       "visibility": null,
       "width": null
      }
     },
     "47e8d179439f414aa21ebdcf8883e4ca": {
      "model_module": "@jupyter-widgets/controls",
      "model_module_version": "1.5.0",
      "model_name": "HBoxModel",
      "state": {
       "_dom_classes": [],
       "_model_module": "@jupyter-widgets/controls",
       "_model_module_version": "1.5.0",
       "_model_name": "HBoxModel",
       "_view_count": null,
       "_view_module": "@jupyter-widgets/controls",
       "_view_module_version": "1.5.0",
       "_view_name": "HBoxView",
       "box_style": "",
       "children": [
        "IPY_MODEL_1b90fd7686ec42dabfab860e089fea93",
        "IPY_MODEL_c5f0b4690ebd40a59cd67eb8bec8a9c7"
       ],
       "layout": "IPY_MODEL_67734c4d324444dea91f86671d269110"
      }
     },
     "539b38ee80e74608a8e340ae1fc6b194": {
      "model_module": "@jupyter-widgets/base",
      "model_module_version": "1.2.0",
      "model_name": "LayoutModel",
      "state": {
       "_model_module": "@jupyter-widgets/base",
       "_model_module_version": "1.2.0",
       "_model_name": "LayoutModel",
       "_view_count": null,
       "_view_module": "@jupyter-widgets/base",
       "_view_module_version": "1.2.0",
       "_view_name": "LayoutView",
       "align_content": null,
       "align_items": null,
       "align_self": null,
       "border": null,
       "bottom": null,
       "display": null,
       "flex": null,
       "flex_flow": null,
       "grid_area": null,
       "grid_auto_columns": null,
       "grid_auto_flow": null,
       "grid_auto_rows": null,
       "grid_column": null,
       "grid_gap": null,
       "grid_row": null,
       "grid_template_areas": null,
       "grid_template_columns": null,
       "grid_template_rows": null,
       "height": null,
       "justify_content": null,
       "justify_items": null,
       "left": null,
       "margin": null,
       "max_height": null,
       "max_width": null,
       "min_height": null,
       "min_width": null,
       "object_fit": null,
       "object_position": null,
       "order": null,
       "overflow": null,
       "overflow_x": null,
       "overflow_y": null,
       "padding": null,
       "right": null,
       "top": null,
       "visibility": null,
       "width": null
      }
     },
     "595fbd48651244519bb5b18c4003867c": {
      "model_module": "@jupyter-widgets/base",
      "model_module_version": "1.2.0",
      "model_name": "LayoutModel",
      "state": {
       "_model_module": "@jupyter-widgets/base",
       "_model_module_version": "1.2.0",
       "_model_name": "LayoutModel",
       "_view_count": null,
       "_view_module": "@jupyter-widgets/base",
       "_view_module_version": "1.2.0",
       "_view_name": "LayoutView",
       "align_content": null,
       "align_items": null,
       "align_self": null,
       "border": null,
       "bottom": null,
       "display": null,
       "flex": null,
       "flex_flow": null,
       "grid_area": null,
       "grid_auto_columns": null,
       "grid_auto_flow": null,
       "grid_auto_rows": null,
       "grid_column": null,
       "grid_gap": null,
       "grid_row": null,
       "grid_template_areas": null,
       "grid_template_columns": null,
       "grid_template_rows": null,
       "height": null,
       "justify_content": null,
       "justify_items": null,
       "left": null,
       "margin": null,
       "max_height": null,
       "max_width": null,
       "min_height": null,
       "min_width": null,
       "object_fit": null,
       "object_position": null,
       "order": null,
       "overflow": null,
       "overflow_x": null,
       "overflow_y": null,
       "padding": null,
       "right": null,
       "top": null,
       "visibility": null,
       "width": null
      }
     },
     "6397ea6cb0fb44dea3b1ab0b78fb1fab": {
      "model_module": "@jupyter-widgets/controls",
      "model_module_version": "1.5.0",
      "model_name": "HBoxModel",
      "state": {
       "_dom_classes": [],
       "_model_module": "@jupyter-widgets/controls",
       "_model_module_version": "1.5.0",
       "_model_name": "HBoxModel",
       "_view_count": null,
       "_view_module": "@jupyter-widgets/controls",
       "_view_module_version": "1.5.0",
       "_view_name": "HBoxView",
       "box_style": "",
       "children": [
        "IPY_MODEL_3d513200a97a4f82a38afa3e92caebdd",
        "IPY_MODEL_2348e91764e943dbafdfb88a8a48e541"
       ],
       "layout": "IPY_MODEL_32b0fe9554ba4eec9be3ef0b3f029954"
      }
     },
     "65f3d5d23ec34ebd81711505b45f44d7": {
      "model_module": "@jupyter-widgets/base",
      "model_module_version": "1.2.0",
      "model_name": "LayoutModel",
      "state": {
       "_model_module": "@jupyter-widgets/base",
       "_model_module_version": "1.2.0",
       "_model_name": "LayoutModel",
       "_view_count": null,
       "_view_module": "@jupyter-widgets/base",
       "_view_module_version": "1.2.0",
       "_view_name": "LayoutView",
       "align_content": null,
       "align_items": null,
       "align_self": null,
       "border": null,
       "bottom": null,
       "display": null,
       "flex": null,
       "flex_flow": null,
       "grid_area": null,
       "grid_auto_columns": null,
       "grid_auto_flow": null,
       "grid_auto_rows": null,
       "grid_column": null,
       "grid_gap": null,
       "grid_row": null,
       "grid_template_areas": null,
       "grid_template_columns": null,
       "grid_template_rows": null,
       "height": null,
       "justify_content": null,
       "justify_items": null,
       "left": null,
       "margin": null,
       "max_height": null,
       "max_width": null,
       "min_height": null,
       "min_width": null,
       "object_fit": null,
       "object_position": null,
       "order": null,
       "overflow": null,
       "overflow_x": null,
       "overflow_y": null,
       "padding": null,
       "right": null,
       "top": null,
       "visibility": null,
       "width": null
      }
     },
     "67734c4d324444dea91f86671d269110": {
      "model_module": "@jupyter-widgets/base",
      "model_module_version": "1.2.0",
      "model_name": "LayoutModel",
      "state": {
       "_model_module": "@jupyter-widgets/base",
       "_model_module_version": "1.2.0",
       "_model_name": "LayoutModel",
       "_view_count": null,
       "_view_module": "@jupyter-widgets/base",
       "_view_module_version": "1.2.0",
       "_view_name": "LayoutView",
       "align_content": null,
       "align_items": null,
       "align_self": null,
       "border": null,
       "bottom": null,
       "display": null,
       "flex": null,
       "flex_flow": null,
       "grid_area": null,
       "grid_auto_columns": null,
       "grid_auto_flow": null,
       "grid_auto_rows": null,
       "grid_column": null,
       "grid_gap": null,
       "grid_row": null,
       "grid_template_areas": null,
       "grid_template_columns": null,
       "grid_template_rows": null,
       "height": null,
       "justify_content": null,
       "justify_items": null,
       "left": null,
       "margin": null,
       "max_height": null,
       "max_width": null,
       "min_height": null,
       "min_width": null,
       "object_fit": null,
       "object_position": null,
       "order": null,
       "overflow": null,
       "overflow_x": null,
       "overflow_y": null,
       "padding": null,
       "right": null,
       "top": null,
       "visibility": null,
       "width": null
      }
     },
     "7584380b099442619d9dd79d9dc91bfe": {
      "model_module": "@jupyter-widgets/base",
      "model_module_version": "1.2.0",
      "model_name": "LayoutModel",
      "state": {
       "_model_module": "@jupyter-widgets/base",
       "_model_module_version": "1.2.0",
       "_model_name": "LayoutModel",
       "_view_count": null,
       "_view_module": "@jupyter-widgets/base",
       "_view_module_version": "1.2.0",
       "_view_name": "LayoutView",
       "align_content": null,
       "align_items": null,
       "align_self": null,
       "border": null,
       "bottom": null,
       "display": null,
       "flex": null,
       "flex_flow": null,
       "grid_area": null,
       "grid_auto_columns": null,
       "grid_auto_flow": null,
       "grid_auto_rows": null,
       "grid_column": null,
       "grid_gap": null,
       "grid_row": null,
       "grid_template_areas": null,
       "grid_template_columns": null,
       "grid_template_rows": null,
       "height": null,
       "justify_content": null,
       "justify_items": null,
       "left": null,
       "margin": null,
       "max_height": null,
       "max_width": null,
       "min_height": null,
       "min_width": null,
       "object_fit": null,
       "object_position": null,
       "order": null,
       "overflow": null,
       "overflow_x": null,
       "overflow_y": null,
       "padding": null,
       "right": null,
       "top": null,
       "visibility": null,
       "width": null
      }
     },
     "8e96ad2193bc46369bf67eb7ca56c633": {
      "model_module": "@jupyter-widgets/output",
      "model_module_version": "1.0.0",
      "model_name": "OutputModel",
      "state": {
       "_dom_classes": [],
       "_model_module": "@jupyter-widgets/output",
       "_model_module_version": "1.0.0",
       "_model_name": "OutputModel",
       "_view_count": null,
       "_view_module": "@jupyter-widgets/output",
       "_view_module_version": "1.0.0",
       "_view_name": "OutputView",
       "layout": "IPY_MODEL_b76c1394446f4b9e9183aaddaea8d432",
       "msg_id": "",
       "outputs": [
        {
         "data": {
          "text/html": "<div>\n<style scoped>\n    .dataframe tbody tr th:only-of-type {\n        vertical-align: middle;\n    }\n\n    .dataframe tbody tr th {\n        vertical-align: top;\n    }\n\n    .dataframe thead th {\n        text-align: right;\n    }\n</style>\n<table border=\"1\" class=\"dataframe\">\n  <thead>\n    <tr style=\"text-align: right;\">\n      <th></th>\n      <th>trigram</th>\n      <th>PMI</th>\n    </tr>\n  </thead>\n  <tbody>\n    <tr>\n      <th>0</th>\n      <td>(accessed, displayed, performed)</td>\n      <td>29.668251</td>\n    </tr>\n    <tr>\n      <th>85</th>\n      <td>(sneverbeenamurderhere, notthati, veeverheardof)</td>\n      <td>29.668251</td>\n    </tr>\n    <tr>\n      <th>83</th>\n      <td>(sitallabout, sthisihearaboutvirginiaboltingof...</td>\n      <td>29.668251</td>\n    </tr>\n    <tr>\n      <th>82</th>\n      <td>(shewenton, thatthere, ssomeextramysteryaboutt...</td>\n      <td>29.668251</td>\n    </tr>\n    <tr>\n      <th>81</th>\n      <td>(sheexplained, minratherahole, andmostofmyfrie...</td>\n      <td>29.668251</td>\n    </tr>\n    <tr>\n      <th>...</th>\n      <td>...</td>\n      <td>...</td>\n    </tr>\n    <tr>\n      <th>19638</th>\n      <td>(anthony, good, mr)</td>\n      <td>5.831655</td>\n    </tr>\n    <tr>\n      <th>19639</th>\n      <td>(anthony, one, thing)</td>\n      <td>5.820539</td>\n    </tr>\n    <tr>\n      <th>19640</th>\n      <td>(anthony, thing, one)</td>\n      <td>5.820539</td>\n    </tr>\n    <tr>\n      <th>19641</th>\n      <td>(anthony, quite, one)</td>\n      <td>5.725119</td>\n    </tr>\n    <tr>\n      <th>19642</th>\n      <td>(virginia, know, anthony)</td>\n      <td>5.013882</td>\n    </tr>\n  </tbody>\n</table>\n<p>19643 rows × 2 columns</p>\n</div>",
          "text/plain": "                                                 trigram        PMI\n0                       (accessed, displayed, performed)  29.668251\n85      (sneverbeenamurderhere, notthati, veeverheardof)  29.668251\n83     (sitallabout, sthisihearaboutvirginiaboltingof...  29.668251\n82     (shewenton, thatthere, ssomeextramysteryaboutt...  29.668251\n81     (sheexplained, minratherahole, andmostofmyfrie...  29.668251\n...                                                  ...        ...\n19638                                (anthony, good, mr)   5.831655\n19639                              (anthony, one, thing)   5.820539\n19640                              (anthony, thing, one)   5.820539\n19641                              (anthony, quite, one)   5.725119\n19642                          (virginia, know, anthony)   5.013882\n\n[19643 rows x 2 columns]"
         },
         "metadata": {},
         "output_type": "display_data"
        }
       ]
      }
     },
     "afaefbb886af43de84062b0525b2a520": {
      "model_module": "@jupyter-widgets/base",
      "model_module_version": "1.2.0",
      "model_name": "LayoutModel",
      "state": {
       "_model_module": "@jupyter-widgets/base",
       "_model_module_version": "1.2.0",
       "_model_name": "LayoutModel",
       "_view_count": null,
       "_view_module": "@jupyter-widgets/base",
       "_view_module_version": "1.2.0",
       "_view_name": "LayoutView",
       "align_content": null,
       "align_items": null,
       "align_self": null,
       "border": null,
       "bottom": null,
       "display": null,
       "flex": null,
       "flex_flow": null,
       "grid_area": null,
       "grid_auto_columns": null,
       "grid_auto_flow": null,
       "grid_auto_rows": null,
       "grid_column": null,
       "grid_gap": null,
       "grid_row": null,
       "grid_template_areas": null,
       "grid_template_columns": null,
       "grid_template_rows": null,
       "height": null,
       "justify_content": null,
       "justify_items": null,
       "left": null,
       "margin": null,
       "max_height": null,
       "max_width": null,
       "min_height": null,
       "min_width": null,
       "object_fit": null,
       "object_position": null,
       "order": null,
       "overflow": null,
       "overflow_x": null,
       "overflow_y": null,
       "padding": null,
       "right": null,
       "top": null,
       "visibility": null,
       "width": null
      }
     },
     "b76c1394446f4b9e9183aaddaea8d432": {
      "model_module": "@jupyter-widgets/base",
      "model_module_version": "1.2.0",
      "model_name": "LayoutModel",
      "state": {
       "_model_module": "@jupyter-widgets/base",
       "_model_module_version": "1.2.0",
       "_model_name": "LayoutModel",
       "_view_count": null,
       "_view_module": "@jupyter-widgets/base",
       "_view_module_version": "1.2.0",
       "_view_name": "LayoutView",
       "align_content": null,
       "align_items": null,
       "align_self": null,
       "border": null,
       "bottom": null,
       "display": null,
       "flex": null,
       "flex_flow": null,
       "grid_area": null,
       "grid_auto_columns": null,
       "grid_auto_flow": null,
       "grid_auto_rows": null,
       "grid_column": null,
       "grid_gap": null,
       "grid_row": null,
       "grid_template_areas": null,
       "grid_template_columns": null,
       "grid_template_rows": null,
       "height": null,
       "justify_content": null,
       "justify_items": null,
       "left": null,
       "margin": null,
       "max_height": null,
       "max_width": null,
       "min_height": null,
       "min_width": null,
       "object_fit": null,
       "object_position": null,
       "order": null,
       "overflow": null,
       "overflow_x": null,
       "overflow_y": null,
       "padding": null,
       "right": null,
       "top": null,
       "visibility": null,
       "width": null
      }
     },
     "c539979d1754452186b285c60b4f9801": {
      "model_module": "@jupyter-widgets/base",
      "model_module_version": "1.2.0",
      "model_name": "LayoutModel",
      "state": {
       "_model_module": "@jupyter-widgets/base",
       "_model_module_version": "1.2.0",
       "_model_name": "LayoutModel",
       "_view_count": null,
       "_view_module": "@jupyter-widgets/base",
       "_view_module_version": "1.2.0",
       "_view_name": "LayoutView",
       "align_content": null,
       "align_items": null,
       "align_self": null,
       "border": null,
       "bottom": null,
       "display": null,
       "flex": null,
       "flex_flow": null,
       "grid_area": null,
       "grid_auto_columns": null,
       "grid_auto_flow": null,
       "grid_auto_rows": null,
       "grid_column": null,
       "grid_gap": null,
       "grid_row": null,
       "grid_template_areas": null,
       "grid_template_columns": null,
       "grid_template_rows": null,
       "height": null,
       "justify_content": null,
       "justify_items": null,
       "left": null,
       "margin": null,
       "max_height": null,
       "max_width": null,
       "min_height": null,
       "min_width": null,
       "object_fit": null,
       "object_position": null,
       "order": null,
       "overflow": null,
       "overflow_x": null,
       "overflow_y": null,
       "padding": null,
       "right": null,
       "top": null,
       "visibility": null,
       "width": null
      }
     },
     "c5f0b4690ebd40a59cd67eb8bec8a9c7": {
      "model_module": "@jupyter-widgets/output",
      "model_module_version": "1.0.0",
      "model_name": "OutputModel",
      "state": {
       "_dom_classes": [],
       "_model_module": "@jupyter-widgets/output",
       "_model_module_version": "1.0.0",
       "_model_name": "OutputModel",
       "_view_count": null,
       "_view_module": "@jupyter-widgets/output",
       "_view_module_version": "1.0.0",
       "_view_name": "OutputView",
       "layout": "IPY_MODEL_f34c3b66a8ea4f34a93ad9a1debdfd36",
       "msg_id": "",
       "outputs": [
        {
         "data": {
          "text/html": "<div>\n<style scoped>\n    .dataframe tbody tr th:only-of-type {\n        vertical-align: middle;\n    }\n\n    .dataframe tbody tr th {\n        vertical-align: top;\n    }\n\n    .dataframe thead th {\n        text-align: right;\n    }\n</style>\n<table border=\"1\" class=\"dataframe\">\n  <thead>\n    <tr style=\"text-align: right;\">\n      <th></th>\n      <th>trigram</th>\n      <th>PMI</th>\n    </tr>\n  </thead>\n  <tbody>\n    <tr>\n      <th>0</th>\n      <td>(accessible, widest, array)</td>\n      <td>29.716739</td>\n    </tr>\n    <tr>\n      <th>49</th>\n      <td>(ofanything, thegirlreplied, buthavetheymadeno...</td>\n      <td>29.716739</td>\n    </tr>\n    <tr>\n      <th>72</th>\n      <td>(thegreatembarrassmentwasstillimmutably, odiou...</td>\n      <td>29.716739</td>\n    </tr>\n    <tr>\n      <th>71</th>\n      <td>(thegirlreplied, buthavetheymadenosound, havey...</td>\n      <td>29.716739</td>\n    </tr>\n    <tr>\n      <th>70</th>\n      <td>(taker, rotten, chimley)</td>\n      <td>29.716739</td>\n    </tr>\n    <tr>\n      <th>...</th>\n      <td>...</td>\n      <td>...</td>\n    </tr>\n    <tr>\n      <th>18519</th>\n      <td>(mona, mr, gereth)</td>\n      <td>4.170663</td>\n    </tr>\n    <tr>\n      <th>18520</th>\n      <td>(owen, gereth, would)</td>\n      <td>4.063172</td>\n    </tr>\n    <tr>\n      <th>18521</th>\n      <td>(mr, mr, owen)</td>\n      <td>3.474453</td>\n    </tr>\n    <tr>\n      <th>18522</th>\n      <td>(mr, owen, mr)</td>\n      <td>3.474453</td>\n    </tr>\n    <tr>\n      <th>18523</th>\n      <td>(fleda, mr, gereth)</td>\n      <td>2.612261</td>\n    </tr>\n  </tbody>\n</table>\n<p>18524 rows × 2 columns</p>\n</div>",
          "text/plain": "                                                 trigram        PMI\n0                            (accessible, widest, array)  29.716739\n49     (ofanything, thegirlreplied, buthavetheymadeno...  29.716739\n72     (thegreatembarrassmentwasstillimmutably, odiou...  29.716739\n71     (thegirlreplied, buthavetheymadenosound, havey...  29.716739\n70                              (taker, rotten, chimley)  29.716739\n...                                                  ...        ...\n18519                                 (mona, mr, gereth)   4.170663\n18520                              (owen, gereth, would)   4.063172\n18521                                     (mr, mr, owen)   3.474453\n18522                                     (mr, owen, mr)   3.474453\n18523                                (fleda, mr, gereth)   2.612261\n\n[18524 rows x 2 columns]"
         },
         "metadata": {},
         "output_type": "display_data"
        }
       ]
      }
     },
     "cfdfb8d2cdbd4b338cda19155f54fd7f": {
      "model_module": "@jupyter-widgets/output",
      "model_module_version": "1.0.0",
      "model_name": "OutputModel",
      "state": {
       "_dom_classes": [],
       "_model_module": "@jupyter-widgets/output",
       "_model_module_version": "1.0.0",
       "_model_name": "OutputModel",
       "_view_count": null,
       "_view_module": "@jupyter-widgets/output",
       "_view_module_version": "1.0.0",
       "_view_name": "OutputView",
       "layout": "IPY_MODEL_3bca6602650247149e514818f742419b",
       "msg_id": "",
       "outputs": [
        {
         "data": {
          "text/html": "<div>\n<style scoped>\n    .dataframe tbody tr th:only-of-type {\n        vertical-align: middle;\n    }\n\n    .dataframe tbody tr th {\n        vertical-align: top;\n    }\n\n    .dataframe thead th {\n        text-align: right;\n    }\n</style>\n<table border=\"1\" class=\"dataframe\">\n  <thead>\n    <tr style=\"text-align: right;\">\n      <th></th>\n      <th>bigram</th>\n      <th>PMI</th>\n    </tr>\n  </thead>\n  <tbody>\n    <tr>\n      <th>0</th>\n      <td>(abreak, thefinished)</td>\n      <td>14.858370</td>\n    </tr>\n    <tr>\n      <th>200</th>\n      <td>(questionable, boon)</td>\n      <td>14.858370</td>\n    </tr>\n    <tr>\n      <th>207</th>\n      <td>(reel, emergency)</td>\n      <td>14.858370</td>\n    </tr>\n    <tr>\n      <th>206</th>\n      <td>(red, saloon)</td>\n      <td>14.858370</td>\n    </tr>\n    <tr>\n      <th>205</th>\n      <td>(recommended, hurry)</td>\n      <td>14.858370</td>\n    </tr>\n    <tr>\n      <th>...</th>\n      <td>...</td>\n      <td>...</td>\n    </tr>\n    <tr>\n      <th>16915</th>\n      <td>(would, fleda)</td>\n      <td>-1.858878</td>\n    </tr>\n    <tr>\n      <th>16916</th>\n      <td>(fleda, owen)</td>\n      <td>-2.599011</td>\n    </tr>\n    <tr>\n      <th>16917</th>\n      <td>(owen, fleda)</td>\n      <td>-2.599011</td>\n    </tr>\n    <tr>\n      <th>16918</th>\n      <td>(mr, mr)</td>\n      <td>-3.135989</td>\n    </tr>\n    <tr>\n      <th>16919</th>\n      <td>(fleda, mr)</td>\n      <td>-3.348263</td>\n    </tr>\n  </tbody>\n</table>\n<p>16920 rows × 2 columns</p>\n</div>",
          "text/plain": "                      bigram        PMI\n0      (abreak, thefinished)  14.858370\n200     (questionable, boon)  14.858370\n207        (reel, emergency)  14.858370\n206            (red, saloon)  14.858370\n205     (recommended, hurry)  14.858370\n...                      ...        ...\n16915         (would, fleda)  -1.858878\n16916          (fleda, owen)  -2.599011\n16917          (owen, fleda)  -2.599011\n16918               (mr, mr)  -3.135989\n16919            (fleda, mr)  -3.348263\n\n[16920 rows x 2 columns]"
         },
         "metadata": {},
         "output_type": "display_data"
        }
       ]
      }
     },
     "dc88efe36bc343b782e88c65b32119a9": {
      "model_module": "@jupyter-widgets/base",
      "model_module_version": "1.2.0",
      "model_name": "LayoutModel",
      "state": {
       "_model_module": "@jupyter-widgets/base",
       "_model_module_version": "1.2.0",
       "_model_name": "LayoutModel",
       "_view_count": null,
       "_view_module": "@jupyter-widgets/base",
       "_view_module_version": "1.2.0",
       "_view_name": "LayoutView",
       "align_content": null,
       "align_items": null,
       "align_self": null,
       "border": null,
       "bottom": null,
       "display": null,
       "flex": null,
       "flex_flow": null,
       "grid_area": null,
       "grid_auto_columns": null,
       "grid_auto_flow": null,
       "grid_auto_rows": null,
       "grid_column": null,
       "grid_gap": null,
       "grid_row": null,
       "grid_template_areas": null,
       "grid_template_columns": null,
       "grid_template_rows": null,
       "height": null,
       "justify_content": null,
       "justify_items": null,
       "left": null,
       "margin": null,
       "max_height": null,
       "max_width": null,
       "min_height": null,
       "min_width": null,
       "object_fit": null,
       "object_position": null,
       "order": null,
       "overflow": null,
       "overflow_x": null,
       "overflow_y": null,
       "padding": null,
       "right": null,
       "top": null,
       "visibility": null,
       "width": null
      }
     },
     "dd248e62a7e443faaac074b541533254": {
      "model_module": "@jupyter-widgets/output",
      "model_module_version": "1.0.0",
      "model_name": "OutputModel",
      "state": {
       "_dom_classes": [],
       "_model_module": "@jupyter-widgets/output",
       "_model_module_version": "1.0.0",
       "_model_name": "OutputModel",
       "_view_count": null,
       "_view_module": "@jupyter-widgets/output",
       "_view_module_version": "1.0.0",
       "_view_name": "OutputView",
       "layout": "IPY_MODEL_437f21c7b2934aa9a2f74039dfd2e8ad",
       "msg_id": "",
       "outputs": [
        {
         "data": {
          "text/html": "<div>\n<style scoped>\n    .dataframe tbody tr th:only-of-type {\n        vertical-align: middle;\n    }\n\n    .dataframe tbody tr th {\n        vertical-align: top;\n    }\n\n    .dataframe thead th {\n        text-align: right;\n    }\n</style>\n<table border=\"1\" class=\"dataframe\">\n  <thead>\n    <tr style=\"text-align: right;\">\n      <th></th>\n      <th>bigram</th>\n      <th>PMI</th>\n    </tr>\n  </thead>\n  <tbody>\n    <tr>\n      <th>0</th>\n      <td>(backswing, thwacked)</td>\n      <td>14.811876</td>\n    </tr>\n    <tr>\n      <th>17</th>\n      <td>(millimeter, magnum)</td>\n      <td>14.811876</td>\n    </tr>\n    <tr>\n      <th>1</th>\n      <td>(behaves, imprisoned)</td>\n      <td>14.811876</td>\n    </tr>\n    <tr>\n      <th>31</th>\n      <td>(unlink, detach)</td>\n      <td>14.811876</td>\n    </tr>\n    <tr>\n      <th>30</th>\n      <td>(touch, kleptomaniac)</td>\n      <td>14.811876</td>\n    </tr>\n    <tr>\n      <th>...</th>\n      <td>...</td>\n      <td>...</td>\n    </tr>\n    <tr>\n      <th>8152</th>\n      <td>(went, work)</td>\n      <td>0.228852</td>\n    </tr>\n    <tr>\n      <th>8153</th>\n      <td>(work, tm)</td>\n      <td>0.117491</td>\n    </tr>\n    <tr>\n      <th>8154</th>\n      <td>(one, two)</td>\n      <td>0.091953</td>\n    </tr>\n    <tr>\n      <th>8155</th>\n      <td>(work, want)</td>\n      <td>0.045140</td>\n    </tr>\n    <tr>\n      <th>8156</th>\n      <td>(right, work)</td>\n      <td>0.037321</td>\n    </tr>\n  </tbody>\n</table>\n<p>8157 rows × 2 columns</p>\n</div>",
          "text/plain": "                     bigram        PMI\n0     (backswing, thwacked)  14.811876\n17     (millimeter, magnum)  14.811876\n1     (behaves, imprisoned)  14.811876\n31         (unlink, detach)  14.811876\n30    (touch, kleptomaniac)  14.811876\n...                     ...        ...\n8152           (went, work)   0.228852\n8153             (work, tm)   0.117491\n8154             (one, two)   0.091953\n8155           (work, want)   0.045140\n8156          (right, work)   0.037321\n\n[8157 rows x 2 columns]"
         },
         "metadata": {},
         "output_type": "display_data"
        }
       ]
      }
     },
     "e6d1361fad8b4bfca5faa9b18ba5c31e": {
      "model_module": "@jupyter-widgets/base",
      "model_module_version": "1.2.0",
      "model_name": "LayoutModel",
      "state": {
       "_model_module": "@jupyter-widgets/base",
       "_model_module_version": "1.2.0",
       "_model_name": "LayoutModel",
       "_view_count": null,
       "_view_module": "@jupyter-widgets/base",
       "_view_module_version": "1.2.0",
       "_view_name": "LayoutView",
       "align_content": null,
       "align_items": null,
       "align_self": null,
       "border": null,
       "bottom": null,
       "display": null,
       "flex": null,
       "flex_flow": null,
       "grid_area": null,
       "grid_auto_columns": null,
       "grid_auto_flow": null,
       "grid_auto_rows": null,
       "grid_column": null,
       "grid_gap": null,
       "grid_row": null,
       "grid_template_areas": null,
       "grid_template_columns": null,
       "grid_template_rows": null,
       "height": null,
       "justify_content": null,
       "justify_items": null,
       "left": null,
       "margin": null,
       "max_height": null,
       "max_width": null,
       "min_height": null,
       "min_width": null,
       "object_fit": null,
       "object_position": null,
       "order": null,
       "overflow": null,
       "overflow_x": null,
       "overflow_y": null,
       "padding": null,
       "right": null,
       "top": null,
       "visibility": null,
       "width": null
      }
     },
     "e8af652c225e41ff909db9c9853d925b": {
      "model_module": "@jupyter-widgets/output",
      "model_module_version": "1.0.0",
      "model_name": "OutputModel",
      "state": {
       "_dom_classes": [],
       "_model_module": "@jupyter-widgets/output",
       "_model_module_version": "1.0.0",
       "_model_name": "OutputModel",
       "_view_count": null,
       "_view_module": "@jupyter-widgets/output",
       "_view_module_version": "1.0.0",
       "_view_name": "OutputView",
       "layout": "IPY_MODEL_e6d1361fad8b4bfca5faa9b18ba5c31e",
       "msg_id": "",
       "outputs": [
        {
         "data": {
          "text/html": "<div>\n<style scoped>\n    .dataframe tbody tr th:only-of-type {\n        vertical-align: middle;\n    }\n\n    .dataframe tbody tr th {\n        vertical-align: top;\n    }\n\n    .dataframe thead th {\n        text-align: right;\n    }\n</style>\n<table border=\"1\" class=\"dataframe\">\n  <thead>\n    <tr style=\"text-align: right;\">\n      <th></th>\n      <th>trigram</th>\n      <th>PMI</th>\n    </tr>\n  </thead>\n  <tbody>\n    <tr>\n      <th>0</th>\n      <td>(accessible, widest, array)</td>\n      <td>29.716739</td>\n    </tr>\n    <tr>\n      <th>49</th>\n      <td>(ofanything, thegirlreplied, buthavetheymadeno...</td>\n      <td>29.716739</td>\n    </tr>\n    <tr>\n      <th>72</th>\n      <td>(thegreatembarrassmentwasstillimmutably, odiou...</td>\n      <td>29.716739</td>\n    </tr>\n    <tr>\n      <th>71</th>\n      <td>(thegirlreplied, buthavetheymadenosound, havey...</td>\n      <td>29.716739</td>\n    </tr>\n    <tr>\n      <th>70</th>\n      <td>(taker, rotten, chimley)</td>\n      <td>29.716739</td>\n    </tr>\n    <tr>\n      <th>...</th>\n      <td>...</td>\n      <td>...</td>\n    </tr>\n    <tr>\n      <th>18519</th>\n      <td>(mona, mr, gereth)</td>\n      <td>4.170663</td>\n    </tr>\n    <tr>\n      <th>18520</th>\n      <td>(owen, gereth, would)</td>\n      <td>4.063172</td>\n    </tr>\n    <tr>\n      <th>18521</th>\n      <td>(mr, mr, owen)</td>\n      <td>3.474453</td>\n    </tr>\n    <tr>\n      <th>18522</th>\n      <td>(mr, owen, mr)</td>\n      <td>3.474453</td>\n    </tr>\n    <tr>\n      <th>18523</th>\n      <td>(fleda, mr, gereth)</td>\n      <td>2.612261</td>\n    </tr>\n  </tbody>\n</table>\n<p>18524 rows × 2 columns</p>\n</div>",
          "text/plain": "                                                 trigram        PMI\n0                            (accessible, widest, array)  29.716739\n49     (ofanything, thegirlreplied, buthavetheymadeno...  29.716739\n72     (thegreatembarrassmentwasstillimmutably, odiou...  29.716739\n71     (thegirlreplied, buthavetheymadenosound, havey...  29.716739\n70                              (taker, rotten, chimley)  29.716739\n...                                                  ...        ...\n18519                                 (mona, mr, gereth)   4.170663\n18520                              (owen, gereth, would)   4.063172\n18521                                     (mr, mr, owen)   3.474453\n18522                                     (mr, owen, mr)   3.474453\n18523                                (fleda, mr, gereth)   2.612261\n\n[18524 rows x 2 columns]"
         },
         "metadata": {},
         "output_type": "display_data"
        }
       ]
      }
     },
     "ec4e5e7759a34bce8504e9f21d487b32": {
      "model_module": "@jupyter-widgets/output",
      "model_module_version": "1.0.0",
      "model_name": "OutputModel",
      "state": {
       "_dom_classes": [],
       "_model_module": "@jupyter-widgets/output",
       "_model_module_version": "1.0.0",
       "_model_name": "OutputModel",
       "_view_count": null,
       "_view_module": "@jupyter-widgets/output",
       "_view_module_version": "1.0.0",
       "_view_name": "OutputView",
       "layout": "IPY_MODEL_c539979d1754452186b285c60b4f9801",
       "msg_id": "",
       "outputs": [
        {
         "data": {
          "text/html": "<div>\n<style scoped>\n    .dataframe tbody tr th:only-of-type {\n        vertical-align: middle;\n    }\n\n    .dataframe tbody tr th {\n        vertical-align: top;\n    }\n\n    .dataframe thead th {\n        text-align: right;\n    }\n</style>\n<table border=\"1\" class=\"dataframe\">\n  <thead>\n    <tr style=\"text-align: right;\">\n      <th></th>\n      <th>bigram</th>\n      <th>PMI</th>\n    </tr>\n  </thead>\n  <tbody>\n    <tr>\n      <th>0</th>\n      <td>(ably, seconded)</td>\n      <td>14.834125</td>\n    </tr>\n    <tr>\n      <th>203</th>\n      <td>(pglaf, owns)</td>\n      <td>14.834125</td>\n    </tr>\n    <tr>\n      <th>221</th>\n      <td>(purest, motif)</td>\n      <td>14.834125</td>\n    </tr>\n    <tr>\n      <th>220</th>\n      <td>(pure, bred)</td>\n      <td>14.834125</td>\n    </tr>\n    <tr>\n      <th>219</th>\n      <td>(punctual, healthy)</td>\n      <td>14.834125</td>\n    </tr>\n    <tr>\n      <th>...</th>\n      <td>...</td>\n      <td>...</td>\n    </tr>\n    <tr>\n      <th>17597</th>\n      <td>(anthony, little)</td>\n      <td>-0.917053</td>\n    </tr>\n    <tr>\n      <th>17598</th>\n      <td>(one, mr)</td>\n      <td>-0.980407</td>\n    </tr>\n    <tr>\n      <th>17599</th>\n      <td>(quite, anthony)</td>\n      <td>-1.114653</td>\n    </tr>\n    <tr>\n      <th>17600</th>\n      <td>(anthony, see)</td>\n      <td>-1.214957</td>\n    </tr>\n    <tr>\n      <th>17601</th>\n      <td>(virginia, anthony)</td>\n      <td>-1.220331</td>\n    </tr>\n  </tbody>\n</table>\n<p>17602 rows × 2 columns</p>\n</div>",
          "text/plain": "                    bigram        PMI\n0         (ably, seconded)  14.834125\n203          (pglaf, owns)  14.834125\n221        (purest, motif)  14.834125\n220           (pure, bred)  14.834125\n219    (punctual, healthy)  14.834125\n...                    ...        ...\n17597    (anthony, little)  -0.917053\n17598            (one, mr)  -0.980407\n17599     (quite, anthony)  -1.114653\n17600       (anthony, see)  -1.214957\n17601  (virginia, anthony)  -1.220331\n\n[17602 rows x 2 columns]"
         },
         "metadata": {},
         "output_type": "display_data"
        }
       ]
      }
     },
     "ee9f80f7f4f643b8953613b62b76be0c": {
      "model_module": "@jupyter-widgets/base",
      "model_module_version": "1.2.0",
      "model_name": "LayoutModel",
      "state": {
       "_model_module": "@jupyter-widgets/base",
       "_model_module_version": "1.2.0",
       "_model_name": "LayoutModel",
       "_view_count": null,
       "_view_module": "@jupyter-widgets/base",
       "_view_module_version": "1.2.0",
       "_view_name": "LayoutView",
       "align_content": null,
       "align_items": null,
       "align_self": null,
       "border": null,
       "bottom": null,
       "display": null,
       "flex": null,
       "flex_flow": null,
       "grid_area": null,
       "grid_auto_columns": null,
       "grid_auto_flow": null,
       "grid_auto_rows": null,
       "grid_column": null,
       "grid_gap": null,
       "grid_row": null,
       "grid_template_areas": null,
       "grid_template_columns": null,
       "grid_template_rows": null,
       "height": null,
       "justify_content": null,
       "justify_items": null,
       "left": null,
       "margin": null,
       "max_height": null,
       "max_width": null,
       "min_height": null,
       "min_width": null,
       "object_fit": null,
       "object_position": null,
       "order": null,
       "overflow": null,
       "overflow_x": null,
       "overflow_y": null,
       "padding": null,
       "right": null,
       "top": null,
       "visibility": null,
       "width": null
      }
     },
     "eee2c458d65c4c08a43aac16e49f01c0": {
      "model_module": "@jupyter-widgets/output",
      "model_module_version": "1.0.0",
      "model_name": "OutputModel",
      "state": {
       "_dom_classes": [],
       "_model_module": "@jupyter-widgets/output",
       "_model_module_version": "1.0.0",
       "_model_name": "OutputModel",
       "_view_count": null,
       "_view_module": "@jupyter-widgets/output",
       "_view_module_version": "1.0.0",
       "_view_name": "OutputView",
       "layout": "IPY_MODEL_074706b0c6804b2284c23f3be388a086",
       "msg_id": "",
       "outputs": [
        {
         "data": {
          "text/html": "<div>\n<style scoped>\n    .dataframe tbody tr th:only-of-type {\n        vertical-align: middle;\n    }\n\n    .dataframe tbody tr th {\n        vertical-align: top;\n    }\n\n    .dataframe thead th {\n        text-align: right;\n    }\n</style>\n<table border=\"1\" class=\"dataframe\">\n  <thead>\n    <tr style=\"text-align: right;\">\n      <th></th>\n      <th>bigram</th>\n      <th>PMI</th>\n    </tr>\n  </thead>\n  <tbody>\n    <tr>\n      <th>0</th>\n      <td>(abode, moderate)</td>\n      <td>14.841859</td>\n    </tr>\n    <tr>\n      <th>203</th>\n      <td>(pre, historic)</td>\n      <td>14.841859</td>\n    </tr>\n    <tr>\n      <th>210</th>\n      <td>(pure, frankincense)</td>\n      <td>14.841859</td>\n    </tr>\n    <tr>\n      <th>209</th>\n      <td>(punitive, incidental)</td>\n      <td>14.841859</td>\n    </tr>\n    <tr>\n      <th>208</th>\n      <td>(punch, judy)</td>\n      <td>14.841859</td>\n    </tr>\n    <tr>\n      <th>...</th>\n      <td>...</td>\n      <td>...</td>\n    </tr>\n    <tr>\n      <th>18409</th>\n      <td>(squire, patricia)</td>\n      <td>-0.867225</td>\n    </tr>\n    <tr>\n      <th>18410</th>\n      <td>(mara, basil)</td>\n      <td>-1.083788</td>\n    </tr>\n    <tr>\n      <th>18411</th>\n      <td>(mara, mr)</td>\n      <td>-1.268706</td>\n    </tr>\n    <tr>\n      <th>18412</th>\n      <td>(theodore, theodore)</td>\n      <td>-1.279533</td>\n    </tr>\n    <tr>\n      <th>18413</th>\n      <td>(patricia, mr)</td>\n      <td>-1.752582</td>\n    </tr>\n  </tbody>\n</table>\n<p>18414 rows × 2 columns</p>\n</div>",
          "text/plain": "                       bigram        PMI\n0           (abode, moderate)  14.841859\n203           (pre, historic)  14.841859\n210      (pure, frankincense)  14.841859\n209    (punitive, incidental)  14.841859\n208             (punch, judy)  14.841859\n...                       ...        ...\n18409      (squire, patricia)  -0.867225\n18410           (mara, basil)  -1.083788\n18411              (mara, mr)  -1.268706\n18412    (theodore, theodore)  -1.279533\n18413          (patricia, mr)  -1.752582\n\n[18414 rows x 2 columns]"
         },
         "metadata": {},
         "output_type": "display_data"
        }
       ]
      }
     },
     "efe6c6841f034d4ea95af56043728a3c": {
      "model_module": "@jupyter-widgets/output",
      "model_module_version": "1.0.0",
      "model_name": "OutputModel",
      "state": {
       "_dom_classes": [],
       "_model_module": "@jupyter-widgets/output",
       "_model_module_version": "1.0.0",
       "_model_name": "OutputModel",
       "_view_count": null,
       "_view_module": "@jupyter-widgets/output",
       "_view_module_version": "1.0.0",
       "_view_name": "OutputView",
       "layout": "IPY_MODEL_ee9f80f7f4f643b8953613b62b76be0c",
       "msg_id": "",
       "outputs": [
        {
         "data": {
          "text/html": "<div>\n<style scoped>\n    .dataframe tbody tr th:only-of-type {\n        vertical-align: middle;\n    }\n\n    .dataframe tbody tr th {\n        vertical-align: top;\n    }\n\n    .dataframe thead th {\n        text-align: right;\n    }\n</style>\n<table border=\"1\" class=\"dataframe\">\n  <thead>\n    <tr style=\"text-align: right;\">\n      <th></th>\n      <th>trigram</th>\n      <th>PMI</th>\n    </tr>\n  </thead>\n  <tbody>\n    <tr>\n      <th>0</th>\n      <td>(behaves, imprisoned, misbehaves)</td>\n      <td>29.623753</td>\n    </tr>\n    <tr>\n      <th>2</th>\n      <td>(pair, shiny, patent)</td>\n      <td>29.623753</td>\n    </tr>\n    <tr>\n      <th>3</th>\n      <td>(shiny, patent, leather)</td>\n      <td>29.623753</td>\n    </tr>\n    <tr>\n      <th>4</th>\n      <td>(unlink, detach, remove)</td>\n      <td>29.623753</td>\n    </tr>\n    <tr>\n      <th>1</th>\n      <td>(hopheads, stew, bum)</td>\n      <td>29.623753</td>\n    </tr>\n    <tr>\n      <th>...</th>\n      <td>...</td>\n      <td>...</td>\n    </tr>\n    <tr>\n      <th>8965</th>\n      <td>(tm, license, work)</td>\n      <td>8.148008</td>\n    </tr>\n    <tr>\n      <th>8966</th>\n      <td>(get, right, grace)</td>\n      <td>8.023089</td>\n    </tr>\n    <tr>\n      <th>8967</th>\n      <td>(one, u, get)</td>\n      <td>7.443045</td>\n    </tr>\n    <tr>\n      <th>8968</th>\n      <td>(get, right, work)</td>\n      <td>7.271768</td>\n    </tr>\n    <tr>\n      <th>8969</th>\n      <td>(tm, work, work)</td>\n      <td>6.686194</td>\n    </tr>\n  </tbody>\n</table>\n<p>8970 rows × 2 columns</p>\n</div>",
          "text/plain": "                                trigram        PMI\n0     (behaves, imprisoned, misbehaves)  29.623753\n2                 (pair, shiny, patent)  29.623753\n3              (shiny, patent, leather)  29.623753\n4              (unlink, detach, remove)  29.623753\n1                 (hopheads, stew, bum)  29.623753\n...                                 ...        ...\n8965                (tm, license, work)   8.148008\n8966                (get, right, grace)   8.023089\n8967                      (one, u, get)   7.443045\n8968                 (get, right, work)   7.271768\n8969                   (tm, work, work)   6.686194\n\n[8970 rows x 2 columns]"
         },
         "metadata": {},
         "output_type": "display_data"
        }
       ]
      }
     },
     "f34c3b66a8ea4f34a93ad9a1debdfd36": {
      "model_module": "@jupyter-widgets/base",
      "model_module_version": "1.2.0",
      "model_name": "LayoutModel",
      "state": {
       "_model_module": "@jupyter-widgets/base",
       "_model_module_version": "1.2.0",
       "_model_name": "LayoutModel",
       "_view_count": null,
       "_view_module": "@jupyter-widgets/base",
       "_view_module_version": "1.2.0",
       "_view_name": "LayoutView",
       "align_content": null,
       "align_items": null,
       "align_self": null,
       "border": null,
       "bottom": null,
       "display": null,
       "flex": null,
       "flex_flow": null,
       "grid_area": null,
       "grid_auto_columns": null,
       "grid_auto_flow": null,
       "grid_auto_rows": null,
       "grid_column": null,
       "grid_gap": null,
       "grid_row": null,
       "grid_template_areas": null,
       "grid_template_columns": null,
       "grid_template_rows": null,
       "height": null,
       "justify_content": null,
       "justify_items": null,
       "left": null,
       "margin": null,
       "max_height": null,
       "max_width": null,
       "min_height": null,
       "min_width": null,
       "object_fit": null,
       "object_position": null,
       "order": null,
       "overflow": null,
       "overflow_x": null,
       "overflow_y": null,
       "padding": null,
       "right": null,
       "top": null,
       "visibility": null,
       "width": null
      }
     },
     "f6bcd00cb36740689ca09b97aaa65153": {
      "model_module": "@jupyter-widgets/controls",
      "model_module_version": "1.5.0",
      "model_name": "HBoxModel",
      "state": {
       "_dom_classes": [],
       "_model_module": "@jupyter-widgets/controls",
       "_model_module_version": "1.5.0",
       "_model_name": "HBoxModel",
       "_view_count": null,
       "_view_module": "@jupyter-widgets/controls",
       "_view_module_version": "1.5.0",
       "_view_name": "HBoxView",
       "box_style": "",
       "children": [
        "IPY_MODEL_dd248e62a7e443faaac074b541533254",
        "IPY_MODEL_efe6c6841f034d4ea95af56043728a3c"
       ],
       "layout": "IPY_MODEL_169a6b78ea224dcea6d93556c0350340"
      }
     },
     "f8f753d81d3549d7a0b8eac8dcb68c08": {
      "model_module": "@jupyter-widgets/base",
      "model_module_version": "1.2.0",
      "model_name": "LayoutModel",
      "state": {
       "_model_module": "@jupyter-widgets/base",
       "_model_module_version": "1.2.0",
       "_model_name": "LayoutModel",
       "_view_count": null,
       "_view_module": "@jupyter-widgets/base",
       "_view_module_version": "1.2.0",
       "_view_name": "LayoutView",
       "align_content": null,
       "align_items": null,
       "align_self": null,
       "border": null,
       "bottom": null,
       "display": null,
       "flex": null,
       "flex_flow": null,
       "grid_area": null,
       "grid_auto_columns": null,
       "grid_auto_flow": null,
       "grid_auto_rows": null,
       "grid_column": null,
       "grid_gap": null,
       "grid_row": null,
       "grid_template_areas": null,
       "grid_template_columns": null,
       "grid_template_rows": null,
       "height": null,
       "justify_content": null,
       "justify_items": null,
       "left": null,
       "margin": null,
       "max_height": null,
       "max_width": null,
       "min_height": null,
       "min_width": null,
       "object_fit": null,
       "object_position": null,
       "order": null,
       "overflow": null,
       "overflow_x": null,
       "overflow_y": null,
       "padding": null,
       "right": null,
       "top": null,
       "visibility": null,
       "width": null
      }
     }
    },
    "version_major": 2,
    "version_minor": 0
   }
  }
 },
 "nbformat": 4,
 "nbformat_minor": 5
}
